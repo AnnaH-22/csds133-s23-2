{
 "cells": [
  {
   "cell_type": "code",
   "execution_count": 93,
   "id": "eb61d1ec",
   "metadata": {},
   "outputs": [],
   "source": [
    "# Question 3\n",
    "\n",
    "using Statistics\n",
    "using CSV\n",
    "using DataFrames\n",
    "using LinearAlgebra\n",
    "using Dates\n"
   ]
  },
  {
   "cell_type": "code",
   "execution_count": 94,
   "id": "42f2bd85",
   "metadata": {},
   "outputs": [
    {
     "data": {
      "text/html": [
       "<div><div style = \"float: left;\"><span>10×22 DataFrame</span></div><div style = \"clear: both;\"></div></div><div class = \"data-frame\" style = \"overflow-x: scroll;\"><table class = \"data-frame\" style = \"margin-bottom: 6px;\"><thead><tr class = \"header\"><th class = \"rowNumber\" style = \"font-weight: bold; text-align: right;\">Row</th><th style = \"text-align: left;\">time</th><th style = \"text-align: left;\">latitude</th><th style = \"text-align: left;\">longitude</th><th style = \"text-align: left;\">depth</th><th style = \"text-align: left;\">mag</th><th style = \"text-align: left;\">magType</th><th style = \"text-align: left;\">nst</th><th style = \"text-align: left;\">gap</th><th style = \"text-align: left;\">dmin</th><th style = \"text-align: left;\">rms</th><th style = \"text-align: left;\">net</th><th style = \"text-align: left;\">id</th><th style = \"text-align: left;\">updated</th><th style = \"text-align: left;\">place</th><th style = \"text-align: left;\">type</th><th style = \"text-align: left;\">horizontalError</th><th style = \"text-align: left;\">depthError</th><th style = \"text-align: left;\">magError</th><th style = \"text-align: left;\">magNst</th><th style = \"text-align: left;\">status</th><th style = \"text-align: left;\">locationSource</th><th style = \"text-align: left;\">magSource</th></tr><tr class = \"subheader headerLastRow\"><th class = \"rowNumber\" style = \"font-weight: bold; text-align: right;\"></th><th title = \"String31\" style = \"text-align: left;\">String31</th><th title = \"Float64\" style = \"text-align: left;\">Float64</th><th title = \"Float64\" style = \"text-align: left;\">Float64</th><th title = \"Float64\" style = \"text-align: left;\">Float64</th><th title = \"Float64\" style = \"text-align: left;\">Float64</th><th title = \"String3\" style = \"text-align: left;\">String3</th><th title = \"Int64\" style = \"text-align: left;\">Int64</th><th title = \"Int64\" style = \"text-align: left;\">Int64</th><th title = \"Float64\" style = \"text-align: left;\">Float64</th><th title = \"Float64\" style = \"text-align: left;\">Float64</th><th title = \"String3\" style = \"text-align: left;\">String3</th><th title = \"String15\" style = \"text-align: left;\">String15</th><th title = \"String31\" style = \"text-align: left;\">String31</th><th title = \"String\" style = \"text-align: left;\">String</th><th title = \"String15\" style = \"text-align: left;\">String15</th><th title = \"Float64\" style = \"text-align: left;\">Float64</th><th title = \"Float64\" style = \"text-align: left;\">Float64</th><th title = \"Float64\" style = \"text-align: left;\">Float64</th><th title = \"Int64\" style = \"text-align: left;\">Int64</th><th title = \"String15\" style = \"text-align: left;\">String15</th><th title = \"String3\" style = \"text-align: left;\">String3</th><th title = \"String3\" style = \"text-align: left;\">String3</th></tr></thead><tbody><tr><td class = \"rowNumber\" style = \"font-weight: bold; text-align: right;\">1</td><td style = \"text-align: left;\">2023-01-27T20:25:27.038Z</td><td style = \"text-align: right;\">10.7145</td><td style = \"text-align: right;\">125.448</td><td style = \"text-align: right;\">69.238</td><td style = \"text-align: right;\">5.4</td><td style = \"text-align: left;\">mww</td><td style = \"text-align: right;\">190</td><td style = \"text-align: right;\">26</td><td style = \"text-align: right;\">3.624</td><td style = \"text-align: right;\">0.84</td><td style = \"text-align: left;\">us</td><td style = \"text-align: left;\">us6000jjtj</td><td style = \"text-align: left;\">2023-01-27T22:28:46.168Z</td><td style = \"text-align: left;\">32 km ENE of Hingatungan, Philippines</td><td style = \"text-align: left;\">earthquake</td><td style = \"text-align: right;\">7.83</td><td style = \"text-align: right;\">5.358</td><td style = \"text-align: right;\">0.066</td><td style = \"text-align: right;\">22</td><td style = \"text-align: left;\">reviewed</td><td style = \"text-align: left;\">us</td><td style = \"text-align: left;\">us</td></tr><tr><td class = \"rowNumber\" style = \"font-weight: bold; text-align: right;\">2</td><td style = \"text-align: left;\">2023-01-27T18:18:00.454Z</td><td style = \"text-align: right;\">-2.8446</td><td style = \"text-align: right;\">129.618</td><td style = \"text-align: right;\">20.664</td><td style = \"text-align: right;\">4.7</td><td style = \"text-align: left;\">mb</td><td style = \"text-align: right;\">92</td><td style = \"text-align: right;\">62</td><td style = \"text-align: right;\">2.628</td><td style = \"text-align: right;\">0.6</td><td style = \"text-align: left;\">us</td><td style = \"text-align: left;\">us6000jjsz</td><td style = \"text-align: left;\">2023-01-27T20:31:54.040Z</td><td style = \"text-align: left;\">95 km NE of Amahai, Indonesia</td><td style = \"text-align: left;\">earthquake</td><td style = \"text-align: right;\">4.25</td><td style = \"text-align: right;\">4.631</td><td style = \"text-align: right;\">0.066</td><td style = \"text-align: right;\">78</td><td style = \"text-align: left;\">reviewed</td><td style = \"text-align: left;\">us</td><td style = \"text-align: left;\">us</td></tr><tr><td class = \"rowNumber\" style = \"font-weight: bold; text-align: right;\">3</td><td style = \"text-align: left;\">2023-01-27T16:37:39.419Z</td><td style = \"text-align: right;\">-23.7222</td><td style = \"text-align: right;\">-179.46</td><td style = \"text-align: right;\">525.778</td><td style = \"text-align: right;\">4.6</td><td style = \"text-align: left;\">mb</td><td style = \"text-align: right;\">33</td><td style = \"text-align: right;\">122</td><td style = \"text-align: right;\">4.686</td><td style = \"text-align: right;\">0.53</td><td style = \"text-align: left;\">us</td><td style = \"text-align: left;\">us6000jjsa</td><td style = \"text-align: left;\">2023-01-27T17:00:08.040Z</td><td style = \"text-align: left;\">south of the Fiji Islands</td><td style = \"text-align: left;\">earthquake</td><td style = \"text-align: right;\">16.53</td><td style = \"text-align: right;\">18.134</td><td style = \"text-align: right;\">0.1</td><td style = \"text-align: right;\">30</td><td style = \"text-align: left;\">reviewed</td><td style = \"text-align: left;\">us</td><td style = \"text-align: left;\">us</td></tr><tr><td class = \"rowNumber\" style = \"font-weight: bold; text-align: right;\">4</td><td style = \"text-align: left;\">2023-01-27T16:33:28.276Z</td><td style = \"text-align: right;\">-23.3301</td><td style = \"text-align: right;\">-179.886</td><td style = \"text-align: right;\">528.172</td><td style = \"text-align: right;\">4.5</td><td style = \"text-align: left;\">mb</td><td style = \"text-align: right;\">28</td><td style = \"text-align: right;\">115</td><td style = \"text-align: right;\">4.841</td><td style = \"text-align: right;\">0.64</td><td style = \"text-align: left;\">us</td><td style = \"text-align: left;\">us6000jjs9</td><td style = \"text-align: left;\">2023-01-27T17:14:45.040Z</td><td style = \"text-align: left;\">south of the Fiji Islands</td><td style = \"text-align: left;\">earthquake</td><td style = \"text-align: right;\">14.76</td><td style = \"text-align: right;\">10.621</td><td style = \"text-align: right;\">0.118</td><td style = \"text-align: right;\">21</td><td style = \"text-align: left;\">reviewed</td><td style = \"text-align: left;\">us</td><td style = \"text-align: left;\">us</td></tr><tr><td class = \"rowNumber\" style = \"font-weight: bold; text-align: right;\">5</td><td style = \"text-align: left;\">2023-01-27T11:06:54.630Z</td><td style = \"text-align: right;\">18.7795</td><td style = \"text-align: right;\">-64.3253</td><td style = \"text-align: right;\">33.0</td><td style = \"text-align: right;\">4.6</td><td style = \"text-align: left;\">ml</td><td style = \"text-align: right;\">21</td><td style = \"text-align: right;\">217</td><td style = \"text-align: right;\">0.7621</td><td style = \"text-align: right;\">0.46</td><td style = \"text-align: left;\">pr</td><td style = \"text-align: left;\">pr2023027001</td><td style = \"text-align: left;\">2023-01-27T18:56:35.897Z</td><td style = \"text-align: left;\">70 km NE of Cruz Bay, U.S. Virgin Islands</td><td style = \"text-align: left;\">earthquake</td><td style = \"text-align: right;\">2.76</td><td style = \"text-align: right;\">9.97</td><td style = \"text-align: right;\">0.08</td><td style = \"text-align: right;\">13</td><td style = \"text-align: left;\">reviewed</td><td style = \"text-align: left;\">pr</td><td style = \"text-align: left;\">pr</td></tr><tr><td class = \"rowNumber\" style = \"font-weight: bold; text-align: right;\">6</td><td style = \"text-align: left;\">2023-01-27T10:51:18.438Z</td><td style = \"text-align: right;\">-16.5691</td><td style = \"text-align: right;\">-69.7504</td><td style = \"text-align: right;\">195.543</td><td style = \"text-align: right;\">4.5</td><td style = \"text-align: left;\">mb</td><td style = \"text-align: right;\">69</td><td style = \"text-align: right;\">105</td><td style = \"text-align: right;\">1.047</td><td style = \"text-align: right;\">0.82</td><td style = \"text-align: left;\">us</td><td style = \"text-align: left;\">us6000jjn6</td><td style = \"text-align: left;\">2023-01-27T14:03:57.040Z</td><td style = \"text-align: left;\">19 km N of Mazo Cruz, Peru</td><td style = \"text-align: left;\">earthquake</td><td style = \"text-align: right;\">7.09</td><td style = \"text-align: right;\">4.387</td><td style = \"text-align: right;\">0.078</td><td style = \"text-align: right;\">48</td><td style = \"text-align: left;\">reviewed</td><td style = \"text-align: left;\">us</td><td style = \"text-align: left;\">us</td></tr><tr><td class = \"rowNumber\" style = \"font-weight: bold; text-align: right;\">7</td><td style = \"text-align: left;\">2023-01-27T05:29:21.314Z</td><td style = \"text-align: right;\">-49.5504</td><td style = \"text-align: right;\">117.454</td><td style = \"text-align: right;\">10.0</td><td style = \"text-align: right;\">5.0</td><td style = \"text-align: left;\">mb</td><td style = \"text-align: right;\">32</td><td style = \"text-align: right;\">145</td><td style = \"text-align: right;\">16.609</td><td style = \"text-align: right;\">0.56</td><td style = \"text-align: left;\">us</td><td style = \"text-align: left;\">us6000jjm1</td><td style = \"text-align: left;\">2023-01-27T05:47:50.040Z</td><td style = \"text-align: left;\">western Indian-Antarctic Ridge</td><td style = \"text-align: left;\">earthquake</td><td style = \"text-align: right;\">15.42</td><td style = \"text-align: right;\">1.926</td><td style = \"text-align: right;\">0.107</td><td style = \"text-align: right;\">28</td><td style = \"text-align: left;\">reviewed</td><td style = \"text-align: left;\">us</td><td style = \"text-align: left;\">us</td></tr><tr><td class = \"rowNumber\" style = \"font-weight: bold; text-align: right;\">8</td><td style = \"text-align: left;\">2023-01-27T04:34:38.938Z</td><td style = \"text-align: right;\">5.0199</td><td style = \"text-align: right;\">-76.2029</td><td style = \"text-align: right;\">103.42</td><td style = \"text-align: right;\">4.5</td><td style = \"text-align: left;\">mb</td><td style = \"text-align: right;\">40</td><td style = \"text-align: right;\">95</td><td style = \"text-align: right;\">1.343</td><td style = \"text-align: right;\">0.7</td><td style = \"text-align: left;\">us</td><td style = \"text-align: left;\">us6000jjlq</td><td style = \"text-align: left;\">2023-01-27T12:24:35.798Z</td><td style = \"text-align: left;\">14 km NNE of San José del Palmar, Colombia</td><td style = \"text-align: left;\">earthquake</td><td style = \"text-align: right;\">7.06</td><td style = \"text-align: right;\">8.868</td><td style = \"text-align: right;\">0.085</td><td style = \"text-align: right;\">40</td><td style = \"text-align: left;\">reviewed</td><td style = \"text-align: left;\">us</td><td style = \"text-align: left;\">us</td></tr><tr><td class = \"rowNumber\" style = \"font-weight: bold; text-align: right;\">9</td><td style = \"text-align: left;\">2023-01-27T03:21:35.761Z</td><td style = \"text-align: right;\">13.7912</td><td style = \"text-align: right;\">120.548</td><td style = \"text-align: right;\">110.676</td><td style = \"text-align: right;\">4.5</td><td style = \"text-align: left;\">mb</td><td style = \"text-align: right;\">34</td><td style = \"text-align: right;\">111</td><td style = \"text-align: right;\">8.312</td><td style = \"text-align: right;\">0.5</td><td style = \"text-align: left;\">us</td><td style = \"text-align: left;\">us6000jjlk</td><td style = \"text-align: left;\">2023-01-27T04:14:12.040Z</td><td style = \"text-align: left;\">10 km WSW of Calatagan, Philippines</td><td style = \"text-align: left;\">earthquake</td><td style = \"text-align: right;\">8.0</td><td style = \"text-align: right;\">8.337</td><td style = \"text-align: right;\">0.08</td><td style = \"text-align: right;\">46</td><td style = \"text-align: left;\">reviewed</td><td style = \"text-align: left;\">us</td><td style = \"text-align: left;\">us</td></tr><tr><td class = \"rowNumber\" style = \"font-weight: bold; text-align: right;\">10</td><td style = \"text-align: left;\">2023-01-27T00:10:43.268Z</td><td style = \"text-align: right;\">41.4478</td><td style = \"text-align: right;\">77.4532</td><td style = \"text-align: right;\">10.0</td><td style = \"text-align: right;\">4.6</td><td style = \"text-align: left;\">mb</td><td style = \"text-align: right;\">33</td><td style = \"text-align: right;\">76</td><td style = \"text-align: right;\">0.385</td><td style = \"text-align: right;\">0.37</td><td style = \"text-align: left;\">us</td><td style = \"text-align: left;\">us6000jjkp</td><td style = \"text-align: left;\">2023-01-27T03:13:34.784Z</td><td style = \"text-align: left;\">80 km SSE of Kadzhi-Say, Kyrgyzstan</td><td style = \"text-align: left;\">earthquake</td><td style = \"text-align: right;\">5.1</td><td style = \"text-align: right;\">1.913</td><td style = \"text-align: right;\">0.114</td><td style = \"text-align: right;\">23</td><td style = \"text-align: left;\">reviewed</td><td style = \"text-align: left;\">us</td><td style = \"text-align: left;\">us</td></tr></tbody></table></div>"
      ],
      "text/latex": [
       "\\begin{tabular}{r|cccccccc}\n",
       "\t& time & latitude & longitude & depth & mag & magType & nst & \\\\\n",
       "\t\\hline\n",
       "\t& String31 & Float64 & Float64 & Float64 & Float64 & String3 & Int64 & \\\\\n",
       "\t\\hline\n",
       "\t1 & 2023-01-27T20:25:27.038Z & 10.7145 & 125.448 & 69.238 & 5.4 & mww & 190 & $\\dots$ \\\\\n",
       "\t2 & 2023-01-27T18:18:00.454Z & -2.8446 & 129.618 & 20.664 & 4.7 & mb & 92 & $\\dots$ \\\\\n",
       "\t3 & 2023-01-27T16:37:39.419Z & -23.7222 & -179.46 & 525.778 & 4.6 & mb & 33 & $\\dots$ \\\\\n",
       "\t4 & 2023-01-27T16:33:28.276Z & -23.3301 & -179.886 & 528.172 & 4.5 & mb & 28 & $\\dots$ \\\\\n",
       "\t5 & 2023-01-27T11:06:54.630Z & 18.7795 & -64.3253 & 33.0 & 4.6 & ml & 21 & $\\dots$ \\\\\n",
       "\t6 & 2023-01-27T10:51:18.438Z & -16.5691 & -69.7504 & 195.543 & 4.5 & mb & 69 & $\\dots$ \\\\\n",
       "\t7 & 2023-01-27T05:29:21.314Z & -49.5504 & 117.454 & 10.0 & 5.0 & mb & 32 & $\\dots$ \\\\\n",
       "\t8 & 2023-01-27T04:34:38.938Z & 5.0199 & -76.2029 & 103.42 & 4.5 & mb & 40 & $\\dots$ \\\\\n",
       "\t9 & 2023-01-27T03:21:35.761Z & 13.7912 & 120.548 & 110.676 & 4.5 & mb & 34 & $\\dots$ \\\\\n",
       "\t10 & 2023-01-27T00:10:43.268Z & 41.4478 & 77.4532 & 10.0 & 4.6 & mb & 33 & $\\dots$ \\\\\n",
       "\\end{tabular}\n"
      ],
      "text/plain": [
       "\u001b[1m10×22 DataFrame\u001b[0m\n",
       "\u001b[1m Row \u001b[0m│\u001b[1m time                     \u001b[0m\u001b[1m latitude \u001b[0m\u001b[1m longitude \u001b[0m\u001b[1m depth   \u001b[0m\u001b[1m mag     \u001b[0m\u001b[1m magTyp\u001b[0m ⋯\n",
       "     │\u001b[90m String31                 \u001b[0m\u001b[90m Float64  \u001b[0m\u001b[90m Float64   \u001b[0m\u001b[90m Float64 \u001b[0m\u001b[90m Float64 \u001b[0m\u001b[90m String\u001b[0m ⋯\n",
       "─────┼──────────────────────────────────────────────────────────────────────────\n",
       "   1 │ 2023-01-27T20:25:27.038Z   10.7145   125.448    69.238      5.4  mww    ⋯\n",
       "   2 │ 2023-01-27T18:18:00.454Z   -2.8446   129.618    20.664      4.7  mb\n",
       "   3 │ 2023-01-27T16:37:39.419Z  -23.7222  -179.46    525.778      4.6  mb\n",
       "   4 │ 2023-01-27T16:33:28.276Z  -23.3301  -179.886   528.172      4.5  mb\n",
       "   5 │ 2023-01-27T11:06:54.630Z   18.7795   -64.3253   33.0        4.6  ml     ⋯\n",
       "   6 │ 2023-01-27T10:51:18.438Z  -16.5691   -69.7504  195.543      4.5  mb\n",
       "   7 │ 2023-01-27T05:29:21.314Z  -49.5504   117.454    10.0        5.0  mb\n",
       "   8 │ 2023-01-27T04:34:38.938Z    5.0199   -76.2029  103.42       4.5  mb\n",
       "   9 │ 2023-01-27T03:21:35.761Z   13.7912   120.548   110.676      4.5  mb     ⋯\n",
       "  10 │ 2023-01-27T00:10:43.268Z   41.4478    77.4532   10.0        4.6  mb\n",
       "\u001b[36m                                                              17 columns omitted\u001b[0m"
      ]
     },
     "metadata": {},
     "output_type": "display_data"
    }
   ],
   "source": [
    "# Question 4\n",
    "filepath = \"C:/Users/Matt/Downloads/4.5_month_earthquakes.csv\"\n",
    "df = CSV.read(filepath, DataFrame, dateformat=\"dd-mm-yyyy\")\n",
    "df2 = CSV.read(filepath, DataFrame, dateformat=\"dd-mm-yyyy\", limit = 10)"
   ]
  },
  {
   "cell_type": "code",
   "execution_count": 95,
   "id": "14365096",
   "metadata": {},
   "outputs": [
    {
     "name": "stdout",
     "output_type": "stream",
     "text": [
      "Min magnitude: [4.5]\n",
      "Max magnitude: [7.6]\n",
      "Average magnitude: [4.821545454545453]\n"
     ]
    }
   ],
   "source": [
    "# Question 5\n",
    "magnitudes = df.mag\n",
    "println(\"Min magnitude: [$(minimum(magnitudes))]\")\n",
    "println(\"Max magnitude: [$(maximum(magnitudes))]\")\n",
    "println(\"Average magnitude: [$(sum(magnitudes) / length(magnitudes))]\")"
   ]
  },
  {
   "cell_type": "code",
   "execution_count": 96,
   "id": "90a65c31",
   "metadata": {},
   "outputs": [
    {
     "name": "stdout",
     "output_type": "stream",
     "text": [
      "2023-01-27T20:25:27\n",
      "2023-01-27T18:18:00\n",
      "2023-01-27T16:37:39\n",
      "2023-01-27T16:33:28\n",
      "2023-01-27T11:06:54\n",
      "2023-01-27T10:51:18\n",
      "2023-01-27T05:29:21\n",
      "2023-01-27T04:34:38\n",
      "2023-01-27T03:21:35\n",
      "2023-01-27T00:10:43\n"
     ]
    }
   ],
   "source": [
    "# Question 6\n",
    "for x in 1:length(df.time)\n",
    "    df.time[x] = df.time[x][1:19]\n",
    "end\n",
    "for x in 1:10\n",
    "    println(\"$(df.time[x])\")\n",
    "end"
   ]
  },
  {
   "cell_type": "code",
   "execution_count": 97,
   "id": "0e56b194",
   "metadata": {},
   "outputs": [
    {
     "name": "stdout",
     "output_type": "stream",
     "text": [
      "This is in 10 days\n",
      "NaN\n",
      "This is in 20 days\n",
      "4.849532710280376\n",
      "This is in 30 days\n",
      "4.832542372881357\n",
      "This is in 40 days\n",
      "4.8270242914979695\n",
      "This is in 50 days\n",
      "4.821545454545446\n"
     ]
    }
   ],
   "source": [
    "# Question 7\n",
    "\n",
    "function inTimeRange(N, i)\n",
    "    present = Dates.now()\n",
    "    # println((Dates.value(present) - Dates.value(DateTime(df.time[x], DateFormat(\"yyyy-mm-ddTHH:MM:SS\")))))\n",
    "    dayPassed = ((Dates.value(present) - Dates.value(DateTime(df.time[i], DateFormat(\"yyyy-mm-ddTHH:MM:SS.sssZ\"))))  / (1000 * 3600 * 24))\n",
    "    # println(\"the day passed for index $i is $dayPassed\")\n",
    "    return dayPassed <= N\n",
    "end\n",
    "\n",
    "function avgMagnitudeNDays(N)  \n",
    "    sumOfMag = 0\n",
    "    i = 1\n",
    "    count = 0\n",
    "    for x in eachrow(df)\n",
    "        # println(\"at index $i\")\n",
    "        if (inTimeRange(N, i))\n",
    "            sumOfMag += df.mag[i]\n",
    "            count += 1\n",
    "        end\n",
    "        i += 1\n",
    "    end\n",
    "    return (sumOfMag / count)\n",
    "end\n",
    "\n",
    "# avgMagnitudeNDays(20)\n",
    "\n",
    "for x in [10, 20, 30, 40 ,50] \n",
    "    res = avgMagnitudeNDays(x)\n",
    "    println(\"This is in $x days\")\n",
    "    println(res)\n",
    "end\n"
   ]
  },
  {
   "cell_type": "code",
   "execution_count": 98,
   "id": "53862950",
   "metadata": {},
   "outputs": [
    {
     "name": "stdout",
     "output_type": "stream",
     "text": [
      "4.8687499999999995\n",
      "4.821545454545446\n",
      "4.79635416666667\n",
      "4.928571428571429\n"
     ]
    }
   ],
   "source": [
    "# Question 8\n",
    "function convertNToDegree(n) #n is in km\n",
    "    return (n /= 100)\n",
    "end\n",
    "\n",
    "function avgMagnitudeWithinNKmOfLatLong(N, latitude, longitude)\n",
    "    n = convertNToDegree(N)\n",
    "    sumOfMag = 0\n",
    "    count = 0\n",
    "    for x in eachrow(df) \n",
    "        distance = sqrt((x.latitude - latitude)^2 + (x.longitude - longitude)^2)\n",
    "        if (distance < n)\n",
    "            sumOfMag +=  x.mag\n",
    "            count += 1\n",
    "        end\n",
    "    end\n",
    "    return sumOfMag / count\n",
    "end\n",
    "\n",
    "println(avgMagnitudeWithinNKmOfLatLong(2000, 29, 14))\n",
    "println(avgMagnitudeWithinNKmOfLatLong(65000, 127, 123))\n",
    "println(avgMagnitudeWithinNKmOfLatLong(3000, 10, 142))\n",
    "println(avgMagnitudeWithinNKmOfLatLong(3000, -47, 189))"
   ]
  },
  {
   "cell_type": "code",
   "execution_count": 102,
   "id": "c9cc33f7",
   "metadata": {},
   "outputs": [
    {
     "data": {
      "text/html": [
       "<div><div style = \"float: left;\"><span>25×22 DataFrame</span></div><div style = \"clear: both;\"></div></div><div class = \"data-frame\" style = \"overflow-x: scroll;\"><table class = \"data-frame\" style = \"margin-bottom: 6px;\"><thead><tr class = \"header\"><th class = \"rowNumber\" style = \"font-weight: bold; text-align: right;\">Row</th><th style = \"text-align: left;\">time</th><th style = \"text-align: left;\">latitude</th><th style = \"text-align: left;\">longitude</th><th style = \"text-align: left;\">depth</th><th style = \"text-align: left;\">mag</th><th style = \"text-align: left;\">magType</th><th style = \"text-align: left;\">nst</th><th style = \"text-align: left;\">gap</th><th style = \"text-align: left;\">dmin</th><th style = \"text-align: left;\">rms</th><th style = \"text-align: left;\">net</th><th style = \"text-align: left;\">id</th><th style = \"text-align: left;\">updated</th><th style = \"text-align: left;\">place</th><th style = \"text-align: left;\">type</th><th style = \"text-align: left;\">horizontalError</th><th style = \"text-align: left;\">depthError</th><th style = \"text-align: left;\">magError</th><th style = \"text-align: left;\">magNst</th><th style = \"text-align: left;\">status</th><th style = \"text-align: left;\">locationSource</th><th style = \"text-align: left;\">magSource</th></tr><tr class = \"subheader headerLastRow\"><th class = \"rowNumber\" style = \"font-weight: bold; text-align: right;\"></th><th title = \"String31\" style = \"text-align: left;\">String31</th><th title = \"Float64\" style = \"text-align: left;\">Float64</th><th title = \"Float64\" style = \"text-align: left;\">Float64</th><th title = \"Float64\" style = \"text-align: left;\">Float64</th><th title = \"Float64\" style = \"text-align: left;\">Float64</th><th title = \"String3\" style = \"text-align: left;\">String3</th><th title = \"Union{Missing, Int64}\" style = \"text-align: left;\">Int64?</th><th title = \"Union{Missing, Int64}\" style = \"text-align: left;\">Int64?</th><th title = \"Union{Missing, Float64}\" style = \"text-align: left;\">Float64?</th><th title = \"Float64\" style = \"text-align: left;\">Float64</th><th title = \"String3\" style = \"text-align: left;\">String3</th><th title = \"String15\" style = \"text-align: left;\">String15</th><th title = \"String31\" style = \"text-align: left;\">String31</th><th title = \"String\" style = \"text-align: left;\">String</th><th title = \"String15\" style = \"text-align: left;\">String15</th><th title = \"Union{Missing, Float64}\" style = \"text-align: left;\">Float64?</th><th title = \"Float64\" style = \"text-align: left;\">Float64</th><th title = \"Union{Missing, Float64}\" style = \"text-align: left;\">Float64?</th><th title = \"Union{Missing, Int64}\" style = \"text-align: left;\">Int64?</th><th title = \"String15\" style = \"text-align: left;\">String15</th><th title = \"String3\" style = \"text-align: left;\">String3</th><th title = \"String3\" style = \"text-align: left;\">String3</th></tr></thead><tbody><tr><td class = \"rowNumber\" style = \"font-weight: bold; text-align: right;\">1</td><td style = \"text-align: left;\">2023-01-27T16:37:39</td><td style = \"text-align: right;\">-23.7222</td><td style = \"text-align: right;\">-179.46</td><td style = \"text-align: right;\">525.778</td><td style = \"text-align: right;\">4.6</td><td style = \"text-align: left;\">mb</td><td style = \"text-align: right;\">33</td><td style = \"text-align: right;\">122</td><td style = \"text-align: right;\">4.686</td><td style = \"text-align: right;\">0.53</td><td style = \"text-align: left;\">us</td><td style = \"text-align: left;\">us6000jjsa</td><td style = \"text-align: left;\">2023-01-27T17:00:08.040Z</td><td style = \"text-align: left;\">south of the Fiji Islands</td><td style = \"text-align: left;\">earthquake</td><td style = \"text-align: right;\">16.53</td><td style = \"text-align: right;\">18.134</td><td style = \"text-align: right;\">0.1</td><td style = \"text-align: right;\">30</td><td style = \"text-align: left;\">reviewed</td><td style = \"text-align: left;\">us</td><td style = \"text-align: left;\">us</td></tr><tr><td class = \"rowNumber\" style = \"font-weight: bold; text-align: right;\">2</td><td style = \"text-align: left;\">2023-01-27T16:33:28</td><td style = \"text-align: right;\">-23.3301</td><td style = \"text-align: right;\">-179.886</td><td style = \"text-align: right;\">528.172</td><td style = \"text-align: right;\">4.5</td><td style = \"text-align: left;\">mb</td><td style = \"text-align: right;\">28</td><td style = \"text-align: right;\">115</td><td style = \"text-align: right;\">4.841</td><td style = \"text-align: right;\">0.64</td><td style = \"text-align: left;\">us</td><td style = \"text-align: left;\">us6000jjs9</td><td style = \"text-align: left;\">2023-01-27T17:14:45.040Z</td><td style = \"text-align: left;\">south of the Fiji Islands</td><td style = \"text-align: left;\">earthquake</td><td style = \"text-align: right;\">14.76</td><td style = \"text-align: right;\">10.621</td><td style = \"text-align: right;\">0.118</td><td style = \"text-align: right;\">21</td><td style = \"text-align: left;\">reviewed</td><td style = \"text-align: left;\">us</td><td style = \"text-align: left;\">us</td></tr><tr><td class = \"rowNumber\" style = \"font-weight: bold; text-align: right;\">3</td><td style = \"text-align: left;\">2023-01-24T06:15:57</td><td style = \"text-align: right;\">-22.1207</td><td style = \"text-align: right;\">-175.436</td><td style = \"text-align: right;\">43.479</td><td style = \"text-align: right;\">4.7</td><td style = \"text-align: left;\">mb</td><td style = \"text-align: right;\">36</td><td style = \"text-align: right;\">148</td><td style = \"text-align: right;\">0.971</td><td style = \"text-align: right;\">0.46</td><td style = \"text-align: left;\">us</td><td style = \"text-align: left;\">us6000jiv5</td><td style = \"text-align: left;\">2023-01-24T06:49:05.040Z</td><td style = \"text-align: left;\">100 km SSW of ‘Ohonua, Tonga</td><td style = \"text-align: left;\">earthquake</td><td style = \"text-align: right;\">10.54</td><td style = \"text-align: right;\">8.569</td><td style = \"text-align: right;\">0.062</td><td style = \"text-align: right;\">80</td><td style = \"text-align: left;\">reviewed</td><td style = \"text-align: left;\">us</td><td style = \"text-align: left;\">us</td></tr><tr><td class = \"rowNumber\" style = \"font-weight: bold; text-align: right;\">4</td><td style = \"text-align: left;\">2023-01-23T10:37:46</td><td style = \"text-align: right;\">-23.3485</td><td style = \"text-align: right;\">-179.55</td><td style = \"text-align: right;\">565.089</td><td style = \"text-align: right;\">4.6</td><td style = \"text-align: left;\">mb</td><td style = \"text-align: right;\">32</td><td style = \"text-align: right;\">99</td><td style = \"text-align: right;\">4.572</td><td style = \"text-align: right;\">0.74</td><td style = \"text-align: left;\">us</td><td style = \"text-align: left;\">us7000j6by</td><td style = \"text-align: left;\">2023-01-23T11:36:38.040Z</td><td style = \"text-align: left;\">south of the Fiji Islands</td><td style = \"text-align: left;\">earthquake</td><td style = \"text-align: right;\">10.06</td><td style = \"text-align: right;\">15.459</td><td style = \"text-align: right;\">0.107</td><td style = \"text-align: right;\">26</td><td style = \"text-align: left;\">reviewed</td><td style = \"text-align: left;\">us</td><td style = \"text-align: left;\">us</td></tr><tr><td class = \"rowNumber\" style = \"font-weight: bold; text-align: right;\">5</td><td style = \"text-align: left;\">2023-01-21T16:06:01</td><td style = \"text-align: right;\">-27.3604</td><td style = \"text-align: right;\">-176.596</td><td style = \"text-align: right;\">10.0</td><td style = \"text-align: right;\">4.8</td><td style = \"text-align: left;\">mb</td><td style = \"text-align: right;\">18</td><td style = \"text-align: right;\">123</td><td style = \"text-align: right;\">6.293</td><td style = \"text-align: right;\">1.04</td><td style = \"text-align: left;\">us</td><td style = \"text-align: left;\">us6000jjqp</td><td style = \"text-align: left;\">2023-01-27T21:01:52.040Z</td><td style = \"text-align: left;\">Kermadec Islands region</td><td style = \"text-align: left;\">earthquake</td><td style = \"text-align: right;\">13.01</td><td style = \"text-align: right;\">1.923</td><td style = \"text-align: right;\">0.197</td><td style = \"text-align: right;\">9</td><td style = \"text-align: left;\">reviewed</td><td style = \"text-align: left;\">us</td><td style = \"text-align: left;\">us</td></tr><tr><td class = \"rowNumber\" style = \"font-weight: bold; text-align: right;\">6</td><td style = \"text-align: left;\">2023-01-18T18:17:12</td><td style = \"text-align: right;\">-24.1049</td><td style = \"text-align: right;\">-179.526</td><td style = \"text-align: right;\">505.884</td><td style = \"text-align: right;\">4.5</td><td style = \"text-align: left;\">mb</td><td style = \"text-align: right;\">18</td><td style = \"text-align: right;\">62</td><td style = \"text-align: right;\">4.947</td><td style = \"text-align: right;\">0.83</td><td style = \"text-align: left;\">us</td><td style = \"text-align: left;\">us6000jjf6</td><td style = \"text-align: left;\">2023-01-27T21:36:56.040Z</td><td style = \"text-align: left;\">south of the Fiji Islands</td><td style = \"text-align: left;\">earthquake</td><td style = \"text-align: right;\">7.34</td><td style = \"text-align: right;\">10.414</td><td style = \"text-align: right;\">0.157</td><td style = \"text-align: right;\">12</td><td style = \"text-align: left;\">reviewed</td><td style = \"text-align: left;\">us</td><td style = \"text-align: left;\">us</td></tr><tr><td class = \"rowNumber\" style = \"font-weight: bold; text-align: right;\">7</td><td style = \"text-align: left;\">2023-01-13T05:43:10</td><td style = \"text-align: right;\">-20.5228</td><td style = \"text-align: right;\">-178.105</td><td style = \"text-align: right;\">479.867</td><td style = \"text-align: right;\">4.5</td><td style = \"text-align: left;\">mb</td><td style = \"text-align: right;\">32</td><td style = \"text-align: right;\">104</td><td style = \"text-align: right;\">2.788</td><td style = \"text-align: right;\">0.61</td><td style = \"text-align: left;\">us</td><td style = \"text-align: left;\">us7000j5uf</td><td style = \"text-align: left;\">2023-01-26T08:53:56.040Z</td><td style = \"text-align: left;\">Fiji region</td><td style = \"text-align: left;\">earthquake</td><td style = \"text-align: right;\">13.77</td><td style = \"text-align: right;\">5.531</td><td style = \"text-align: right;\">0.111</td><td style = \"text-align: right;\">24</td><td style = \"text-align: left;\">reviewed</td><td style = \"text-align: left;\">us</td><td style = \"text-align: left;\">us</td></tr><tr><td class = \"rowNumber\" style = \"font-weight: bold; text-align: right;\">8</td><td style = \"text-align: left;\">2023-01-12T14:16:22</td><td style = \"text-align: right;\">-23.3615</td><td style = \"text-align: right;\">-174.835</td><td style = \"text-align: right;\">10.0</td><td style = \"text-align: right;\">4.6</td><td style = \"text-align: left;\">mb</td><td style = \"text-align: right;\">20</td><td style = \"text-align: right;\">95</td><td style = \"text-align: right;\">2.208</td><td style = \"text-align: right;\">0.81</td><td style = \"text-align: left;\">us</td><td style = \"text-align: left;\">us7000j5tt</td><td style = \"text-align: left;\">2023-01-20T21:26:53.040Z</td><td style = \"text-align: left;\">224 km S of ‘Ohonua, Tonga</td><td style = \"text-align: left;\">earthquake</td><td style = \"text-align: right;\">8.56</td><td style = \"text-align: right;\">1.847</td><td style = \"text-align: right;\">0.158</td><td style = \"text-align: right;\">12</td><td style = \"text-align: left;\">reviewed</td><td style = \"text-align: left;\">us</td><td style = \"text-align: left;\">us</td></tr><tr><td class = \"rowNumber\" style = \"font-weight: bold; text-align: right;\">9</td><td style = \"text-align: left;\">2023-01-12T12:28:33</td><td style = \"text-align: right;\">-23.2748</td><td style = \"text-align: right;\">-174.787</td><td style = \"text-align: right;\">10.0</td><td style = \"text-align: right;\">5.3</td><td style = \"text-align: left;\">mww</td><td style = \"text-align: right;\">45</td><td style = \"text-align: right;\">87</td><td style = \"text-align: right;\">2.13</td><td style = \"text-align: right;\">1.41</td><td style = \"text-align: left;\">us</td><td style = \"text-align: left;\">us7000j3wd</td><td style = \"text-align: left;\">2023-01-12T12:48:26.040Z</td><td style = \"text-align: left;\">Tonga region</td><td style = \"text-align: left;\">earthquake</td><td style = \"text-align: right;\">8.23</td><td style = \"text-align: right;\">1.882</td><td style = \"text-align: right;\">0.093</td><td style = \"text-align: right;\">11</td><td style = \"text-align: left;\">reviewed</td><td style = \"text-align: left;\">us</td><td style = \"text-align: left;\">us</td></tr><tr><td class = \"rowNumber\" style = \"font-weight: bold; text-align: right;\">10</td><td style = \"text-align: left;\">2023-01-12T11:11:55</td><td style = \"text-align: right;\">-23.2336</td><td style = \"text-align: right;\">-174.723</td><td style = \"text-align: right;\">10.0</td><td style = \"text-align: right;\">5.3</td><td style = \"text-align: left;\">mww</td><td style = \"text-align: right;\">33</td><td style = \"text-align: right;\">120</td><td style = \"text-align: right;\">2.102</td><td style = \"text-align: right;\">1.18</td><td style = \"text-align: left;\">us</td><td style = \"text-align: left;\">us7000j3v7</td><td style = \"text-align: left;\">2023-01-12T11:31:44.040Z</td><td style = \"text-align: left;\">211 km S of ‘Ohonua, Tonga</td><td style = \"text-align: left;\">earthquake</td><td style = \"text-align: right;\">8.73</td><td style = \"text-align: right;\">1.93</td><td style = \"text-align: right;\">0.083</td><td style = \"text-align: right;\">14</td><td style = \"text-align: left;\">reviewed</td><td style = \"text-align: left;\">us</td><td style = \"text-align: left;\">us</td></tr><tr><td class = \"rowNumber\" style = \"font-weight: bold; text-align: right;\">11</td><td style = \"text-align: left;\">2023-01-12T08:11:19</td><td style = \"text-align: right;\">-23.3558</td><td style = \"text-align: right;\">-174.681</td><td style = \"text-align: right;\">36.563</td><td style = \"text-align: right;\">4.8</td><td style = \"text-align: left;\">mb</td><td style = \"text-align: right;\">31</td><td style = \"text-align: right;\">111</td><td style = \"text-align: right;\">2.229</td><td style = \"text-align: right;\">0.49</td><td style = \"text-align: left;\">us</td><td style = \"text-align: left;\">us7000j3up</td><td style = \"text-align: left;\">2023-01-12T08:32:44.040Z</td><td style = \"text-align: left;\">225 km S of ‘Ohonua, Tonga</td><td style = \"text-align: left;\">earthquake</td><td style = \"text-align: right;\">8.91</td><td style = \"text-align: right;\">9.851</td><td style = \"text-align: right;\">0.109</td><td style = \"text-align: right;\">26</td><td style = \"text-align: left;\">reviewed</td><td style = \"text-align: left;\">us</td><td style = \"text-align: left;\">us</td></tr><tr><td class = \"rowNumber\" style = \"font-weight: bold; text-align: right;\">12</td><td style = \"text-align: left;\">2023-01-11T11:35:12</td><td style = \"text-align: right;\">-23.2975</td><td style = \"text-align: right;\">-175.679</td><td style = \"text-align: right;\">10.0</td><td style = \"text-align: right;\">4.5</td><td style = \"text-align: left;\">mb</td><td style = \"text-align: right;\">16</td><td style = \"text-align: right;\">159</td><td style = \"text-align: right;\">2.163</td><td style = \"text-align: right;\">0.27</td><td style = \"text-align: left;\">us</td><td style = \"text-align: left;\">us7000j5ry</td><td style = \"text-align: left;\">2023-01-26T07:03:51.040Z</td><td style = \"text-align: left;\">Tonga region</td><td style = \"text-align: left;\">earthquake</td><td style = \"text-align: right;\">12.13</td><td style = \"text-align: right;\">1.94</td><td style = \"text-align: right;\">0.172</td><td style = \"text-align: right;\">10</td><td style = \"text-align: left;\">reviewed</td><td style = \"text-align: left;\">us</td><td style = \"text-align: left;\">us</td></tr><tr><td class = \"rowNumber\" style = \"font-weight: bold; text-align: right;\">13</td><td style = \"text-align: left;\">2023-01-11T11:34:08</td><td style = \"text-align: right;\">-23.1878</td><td style = \"text-align: right;\">-175.349</td><td style = \"text-align: right;\">10.0</td><td style = \"text-align: right;\">4.7</td><td style = \"text-align: left;\">mb</td><td style = \"text-align: right;\">21</td><td style = \"text-align: right;\">164</td><td style = \"text-align: right;\">2.013</td><td style = \"text-align: right;\">0.89</td><td style = \"text-align: left;\">us</td><td style = \"text-align: left;\">us7000j5re</td><td style = \"text-align: left;\">2023-01-26T06:59:35.040Z</td><td style = \"text-align: left;\">209 km SSW of ‘Ohonua, Tonga</td><td style = \"text-align: left;\">earthquake</td><td style = \"text-align: right;\">8.1</td><td style = \"text-align: right;\">1.899</td><td style = \"text-align: right;\">0.153</td><td style = \"text-align: right;\">13</td><td style = \"text-align: left;\">reviewed</td><td style = \"text-align: left;\">us</td><td style = \"text-align: left;\">us</td></tr><tr><td class = \"rowNumber\" style = \"font-weight: bold; text-align: right;\">14</td><td style = \"text-align: left;\">2023-01-11T11:30:27</td><td style = \"text-align: right;\">-23.2118</td><td style = \"text-align: right;\">-175.304</td><td style = \"text-align: right;\">10.0</td><td style = \"text-align: right;\">5.6</td><td style = \"text-align: left;\">mww</td><td style = \"text-align: right;\">116</td><td style = \"text-align: right;\">80</td><td style = \"text-align: right;\">2.034</td><td style = \"text-align: right;\">0.61</td><td style = \"text-align: left;\">us</td><td style = \"text-align: left;\">us7000j3mj</td><td style = \"text-align: left;\">2023-01-26T06:47:37.525Z</td><td style = \"text-align: left;\">211 km S of ‘Ohonua, Tonga</td><td style = \"text-align: left;\">earthquake</td><td style = \"text-align: right;\">9.87</td><td style = \"text-align: right;\">1.846</td><td style = \"text-align: right;\">0.075</td><td style = \"text-align: right;\">17</td><td style = \"text-align: left;\">reviewed</td><td style = \"text-align: left;\">us</td><td style = \"text-align: left;\">us</td></tr><tr><td class = \"rowNumber\" style = \"font-weight: bold; text-align: right;\">15</td><td style = \"text-align: left;\">2023-01-07T18:51:36</td><td style = \"text-align: right;\">-21.5795</td><td style = \"text-align: right;\">-179.165</td><td style = \"text-align: right;\">582.979</td><td style = \"text-align: right;\">4.6</td><td style = \"text-align: left;\">mb</td><td style = \"text-align: right;\">83</td><td style = \"text-align: right;\">43</td><td style = \"text-align: right;\">3.715</td><td style = \"text-align: right;\">0.61</td><td style = \"text-align: left;\">us</td><td style = \"text-align: left;\">us7000j2uk</td><td style = \"text-align: left;\">2023-01-07T19:17:56.040Z</td><td style = \"text-align: left;\">Fiji region</td><td style = \"text-align: left;\">earthquake</td><td style = \"text-align: right;\">10.51</td><td style = \"text-align: right;\">4.751</td><td style = \"text-align: right;\">0.055</td><td style = \"text-align: right;\">98</td><td style = \"text-align: left;\">reviewed</td><td style = \"text-align: left;\">us</td><td style = \"text-align: left;\">us</td></tr><tr><td class = \"rowNumber\" style = \"font-weight: bold; text-align: right;\">16</td><td style = \"text-align: left;\">2023-01-06T20:01:10</td><td style = \"text-align: right;\">-19.9069</td><td style = \"text-align: right;\">-178.143</td><td style = \"text-align: right;\">574.355</td><td style = \"text-align: right;\">4.9</td><td style = \"text-align: left;\">mb</td><td style = \"text-align: right;\">52</td><td style = \"text-align: right;\">63</td><td style = \"text-align: right;\">3.028</td><td style = \"text-align: right;\">0.78</td><td style = \"text-align: left;\">us</td><td style = \"text-align: left;\">us7000j2ml</td><td style = \"text-align: left;\">2023-01-06T20:15:27.040Z</td><td style = \"text-align: left;\">Fiji region</td><td style = \"text-align: left;\">earthquake</td><td style = \"text-align: right;\">12.76</td><td style = \"text-align: right;\">9.005</td><td style = \"text-align: right;\">0.117</td><td style = \"text-align: right;\">23</td><td style = \"text-align: left;\">reviewed</td><td style = \"text-align: left;\">us</td><td style = \"text-align: left;\">us</td></tr><tr><td class = \"rowNumber\" style = \"font-weight: bold; text-align: right;\">17</td><td style = \"text-align: left;\">2023-01-06T11:52:37</td><td style = \"text-align: right;\">-24.7523</td><td style = \"text-align: right;\">-179.968</td><td style = \"text-align: right;\">498.56</td><td style = \"text-align: right;\">5.9</td><td style = \"text-align: left;\">mww</td><td style = \"text-align: right;\">109</td><td style = \"text-align: right;\">23</td><td style = \"text-align: right;\">4.849</td><td style = \"text-align: right;\">0.74</td><td style = \"text-align: left;\">us</td><td style = \"text-align: left;\">us7000j2ig</td><td style = \"text-align: left;\">2023-01-23T07:08:58.985Z</td><td style = \"text-align: left;\">south of the Fiji Islands</td><td style = \"text-align: left;\">earthquake</td><td style = \"text-align: right;\">9.97</td><td style = \"text-align: right;\">3.635</td><td style = \"text-align: right;\">0.061</td><td style = \"text-align: right;\">26</td><td style = \"text-align: left;\">reviewed</td><td style = \"text-align: left;\">us</td><td style = \"text-align: left;\">us</td></tr><tr><td class = \"rowNumber\" style = \"font-weight: bold; text-align: right;\">18</td><td style = \"text-align: left;\">2023-01-04T19:04:43</td><td style = \"text-align: right;\">-28.4014</td><td style = \"text-align: right;\">-178.305</td><td style = \"text-align: right;\">10.0</td><td style = \"text-align: right;\">4.6</td><td style = \"text-align: left;\">mb</td><td style = \"text-align: right;\">41</td><td style = \"text-align: right;\">70</td><td style = \"text-align: right;\">0.922</td><td style = \"text-align: right;\">0.87</td><td style = \"text-align: left;\">us</td><td style = \"text-align: left;\">us7000j47d</td><td style = \"text-align: left;\">2023-01-17T22:00:01.040Z</td><td style = \"text-align: left;\">Kermadec Islands region</td><td style = \"text-align: left;\">earthquake</td><td style = \"text-align: right;\">7.38</td><td style = \"text-align: right;\">1.857</td><td style = \"text-align: right;\">0.09</td><td style = \"text-align: right;\">37</td><td style = \"text-align: left;\">reviewed</td><td style = \"text-align: left;\">us</td><td style = \"text-align: left;\">us</td></tr><tr><td class = \"rowNumber\" style = \"font-weight: bold; text-align: right;\">19</td><td style = \"text-align: left;\">2023-01-04T04:31:07</td><td style = \"text-align: right;\">-23.0376</td><td style = \"text-align: right;\">-179.344</td><td style = \"text-align: right;\">468.324</td><td style = \"text-align: right;\">4.5</td><td style = \"text-align: left;\">mb</td><td style = \"text-align: right;\">36</td><td style = \"text-align: right;\">103</td><td style = \"text-align: right;\">4.265</td><td style = \"text-align: right;\">0.8</td><td style = \"text-align: left;\">us</td><td style = \"text-align: left;\">us7000j46r</td><td style = \"text-align: left;\">2023-01-18T03:35:40.040Z</td><td style = \"text-align: left;\">south of the Fiji Islands</td><td style = \"text-align: left;\">earthquake</td><td style = \"text-align: right;\">13.71</td><td style = \"text-align: right;\">9.824</td><td style = \"text-align: right;\">0.118</td><td style = \"text-align: right;\">21</td><td style = \"text-align: left;\">reviewed</td><td style = \"text-align: left;\">us</td><td style = \"text-align: left;\">us</td></tr><tr><td class = \"rowNumber\" style = \"font-weight: bold; text-align: right;\">20</td><td style = \"text-align: left;\">2023-01-03T01:17:26</td><td style = \"text-align: right;\">-23.4055</td><td style = \"text-align: right;\">-174.54</td><td style = \"text-align: right;\">10.0</td><td style = \"text-align: right;\">4.6</td><td style = \"text-align: left;\">mb</td><td style = \"text-align: right;\">16</td><td style = \"text-align: right;\">96</td><td style = \"text-align: right;\">2.308</td><td style = \"text-align: right;\">0.9</td><td style = \"text-align: left;\">us</td><td style = \"text-align: left;\">us7000j456</td><td style = \"text-align: left;\">2023-01-16T05:03:09.040Z</td><td style = \"text-align: left;\">233 km S of ‘Ohonua, Tonga</td><td style = \"text-align: left;\">earthquake</td><td style = \"text-align: right;\">7.34</td><td style = \"text-align: right;\">1.902</td><td style = \"text-align: right;\">0.274</td><td style = \"text-align: right;\">4</td><td style = \"text-align: left;\">reviewed</td><td style = \"text-align: left;\">us</td><td style = \"text-align: left;\">us</td></tr><tr><td class = \"rowNumber\" style = \"font-weight: bold; text-align: right;\">21</td><td style = \"text-align: left;\">2023-01-02T13:18:34</td><td style = \"text-align: right;\">-20.5016</td><td style = \"text-align: right;\">-178.438</td><td style = \"text-align: right;\">570.9</td><td style = \"text-align: right;\">4.6</td><td style = \"text-align: left;\">mb</td><td style = \"text-align: right;\">97</td><td style = \"text-align: right;\">69</td><td style = \"text-align: right;\">3.098</td><td style = \"text-align: right;\">0.69</td><td style = \"text-align: left;\">us</td><td style = \"text-align: left;\">us7000j1m2</td><td style = \"text-align: left;\">2023-01-15T17:17:40.040Z</td><td style = \"text-align: left;\">Fiji region</td><td style = \"text-align: left;\">earthquake</td><td style = \"text-align: right;\">10.81</td><td style = \"text-align: right;\">3.911</td><td style = \"text-align: right;\">0.057</td><td style = \"text-align: right;\">92</td><td style = \"text-align: left;\">reviewed</td><td style = \"text-align: left;\">us</td><td style = \"text-align: left;\">us</td></tr><tr><td class = \"rowNumber\" style = \"font-weight: bold; text-align: right;\">22</td><td style = \"text-align: left;\">2023-01-02T05:25:47</td><td style = \"text-align: right;\">-22.3471</td><td style = \"text-align: right;\">-179.554</td><td style = \"text-align: right;\">556.877</td><td style = \"text-align: right;\">4.6</td><td style = \"text-align: left;\">mb</td><td style = \"text-align: right;\">35</td><td style = \"text-align: right;\">93</td><td style = \"text-align: right;\">4.21</td><td style = \"text-align: right;\">0.68</td><td style = \"text-align: left;\">us</td><td style = \"text-align: left;\">us7000j1iw</td><td style = \"text-align: left;\">2023-01-08T19:24:30.040Z</td><td style = \"text-align: left;\">south of the Fiji Islands</td><td style = \"text-align: left;\">earthquake</td><td style = \"text-align: right;\">14.69</td><td style = \"text-align: right;\">10.631</td><td style = \"text-align: right;\">0.101</td><td style = \"text-align: right;\">30</td><td style = \"text-align: left;\">reviewed</td><td style = \"text-align: left;\">us</td><td style = \"text-align: left;\">us</td></tr><tr><td class = \"rowNumber\" style = \"font-weight: bold; text-align: right;\">23</td><td style = \"text-align: left;\">2022-12-31T09:34:13</td><td style = \"text-align: right;\">-19.6814</td><td style = \"text-align: right;\">-178.16</td><td style = \"text-align: right;\">582.1</td><td style = \"text-align: right;\">4.8</td><td style = \"text-align: left;\">mb</td><td style = \"text-align: right;\">86</td><td style = \"text-align: right;\">44</td><td style = \"text-align: right;\">3.143</td><td style = \"text-align: right;\">0.64</td><td style = \"text-align: left;\">us</td><td style = \"text-align: left;\">us7000j17s</td><td style = \"text-align: left;\">2023-01-25T11:46:16.040Z</td><td style = \"text-align: left;\">Fiji region</td><td style = \"text-align: left;\">earthquake</td><td style = \"text-align: right;\">9.5</td><td style = \"text-align: right;\">7.594</td><td style = \"text-align: right;\">0.028</td><td style = \"text-align: right;\">381</td><td style = \"text-align: left;\">reviewed</td><td style = \"text-align: left;\">us</td><td style = \"text-align: left;\">us</td></tr><tr><td class = \"rowNumber\" style = \"font-weight: bold; text-align: right;\">24</td><td style = \"text-align: left;\">2022-12-30T15:35:13</td><td style = \"text-align: right;\">-23.1339</td><td style = \"text-align: right;\">-175.272</td><td style = \"text-align: right;\">10.0</td><td style = \"text-align: right;\">4.8</td><td style = \"text-align: left;\">mb</td><td style = \"text-align: right;\">31</td><td style = \"text-align: right;\">76</td><td style = \"text-align: right;\">1.956</td><td style = \"text-align: right;\">0.95</td><td style = \"text-align: left;\">us</td><td style = \"text-align: left;\">us7000j12q</td><td style = \"text-align: left;\">2023-01-22T20:19:37.040Z</td><td style = \"text-align: left;\">Tonga region</td><td style = \"text-align: left;\">earthquake</td><td style = \"text-align: right;\">12.44</td><td style = \"text-align: right;\">1.856</td><td style = \"text-align: right;\">0.087</td><td style = \"text-align: right;\">41</td><td style = \"text-align: left;\">reviewed</td><td style = \"text-align: left;\">us</td><td style = \"text-align: left;\">us</td></tr><tr><td class = \"rowNumber\" style = \"font-weight: bold; text-align: right;\">25</td><td style = \"text-align: left;\">2022-12-29T06:10:50</td><td style = \"text-align: right;\">-23.4737</td><td style = \"text-align: right;\">-176.825</td><td style = \"text-align: right;\">95.838</td><td style = \"text-align: right;\">5.0</td><td style = \"text-align: left;\">mb</td><td style = \"text-align: right;\">62</td><td style = \"text-align: right;\">45</td><td style = \"text-align: right;\">2.74</td><td style = \"text-align: right;\">0.63</td><td style = \"text-align: left;\">us</td><td style = \"text-align: left;\">us7000j0sk</td><td style = \"text-align: left;\">2023-01-22T13:58:17.040Z</td><td style = \"text-align: left;\">south of the Fiji Islands</td><td style = \"text-align: left;\">earthquake</td><td style = \"text-align: right;\">5.37</td><td style = \"text-align: right;\">7.4</td><td style = \"text-align: right;\">0.041</td><td style = \"text-align: right;\">187</td><td style = \"text-align: left;\">reviewed</td><td style = \"text-align: left;\">us</td><td style = \"text-align: left;\">us</td></tr></tbody></table></div>"
      ],
      "text/latex": [
       "\\begin{tabular}{r|ccccccccc}\n",
       "\t& time & latitude & longitude & depth & mag & magType & nst & gap & \\\\\n",
       "\t\\hline\n",
       "\t& String31 & Float64 & Float64 & Float64 & Float64 & String3 & Int64? & Int64? & \\\\\n",
       "\t\\hline\n",
       "\t1 & 2023-01-27T16:37:39 & -23.7222 & -179.46 & 525.778 & 4.6 & mb & 33 & 122 & $\\dots$ \\\\\n",
       "\t2 & 2023-01-27T16:33:28 & -23.3301 & -179.886 & 528.172 & 4.5 & mb & 28 & 115 & $\\dots$ \\\\\n",
       "\t3 & 2023-01-24T06:15:57 & -22.1207 & -175.436 & 43.479 & 4.7 & mb & 36 & 148 & $\\dots$ \\\\\n",
       "\t4 & 2023-01-23T10:37:46 & -23.3485 & -179.55 & 565.089 & 4.6 & mb & 32 & 99 & $\\dots$ \\\\\n",
       "\t5 & 2023-01-21T16:06:01 & -27.3604 & -176.596 & 10.0 & 4.8 & mb & 18 & 123 & $\\dots$ \\\\\n",
       "\t6 & 2023-01-18T18:17:12 & -24.1049 & -179.526 & 505.884 & 4.5 & mb & 18 & 62 & $\\dots$ \\\\\n",
       "\t7 & 2023-01-13T05:43:10 & -20.5228 & -178.105 & 479.867 & 4.5 & mb & 32 & 104 & $\\dots$ \\\\\n",
       "\t8 & 2023-01-12T14:16:22 & -23.3615 & -174.835 & 10.0 & 4.6 & mb & 20 & 95 & $\\dots$ \\\\\n",
       "\t9 & 2023-01-12T12:28:33 & -23.2748 & -174.787 & 10.0 & 5.3 & mww & 45 & 87 & $\\dots$ \\\\\n",
       "\t10 & 2023-01-12T11:11:55 & -23.2336 & -174.723 & 10.0 & 5.3 & mww & 33 & 120 & $\\dots$ \\\\\n",
       "\t11 & 2023-01-12T08:11:19 & -23.3558 & -174.681 & 36.563 & 4.8 & mb & 31 & 111 & $\\dots$ \\\\\n",
       "\t12 & 2023-01-11T11:35:12 & -23.2975 & -175.679 & 10.0 & 4.5 & mb & 16 & 159 & $\\dots$ \\\\\n",
       "\t13 & 2023-01-11T11:34:08 & -23.1878 & -175.349 & 10.0 & 4.7 & mb & 21 & 164 & $\\dots$ \\\\\n",
       "\t14 & 2023-01-11T11:30:27 & -23.2118 & -175.304 & 10.0 & 5.6 & mww & 116 & 80 & $\\dots$ \\\\\n",
       "\t15 & 2023-01-07T18:51:36 & -21.5795 & -179.165 & 582.979 & 4.6 & mb & 83 & 43 & $\\dots$ \\\\\n",
       "\t16 & 2023-01-06T20:01:10 & -19.9069 & -178.143 & 574.355 & 4.9 & mb & 52 & 63 & $\\dots$ \\\\\n",
       "\t17 & 2023-01-06T11:52:37 & -24.7523 & -179.968 & 498.56 & 5.9 & mww & 109 & 23 & $\\dots$ \\\\\n",
       "\t18 & 2023-01-04T19:04:43 & -28.4014 & -178.305 & 10.0 & 4.6 & mb & 41 & 70 & $\\dots$ \\\\\n",
       "\t19 & 2023-01-04T04:31:07 & -23.0376 & -179.344 & 468.324 & 4.5 & mb & 36 & 103 & $\\dots$ \\\\\n",
       "\t20 & 2023-01-03T01:17:26 & -23.4055 & -174.54 & 10.0 & 4.6 & mb & 16 & 96 & $\\dots$ \\\\\n",
       "\t21 & 2023-01-02T13:18:34 & -20.5016 & -178.438 & 570.9 & 4.6 & mb & 97 & 69 & $\\dots$ \\\\\n",
       "\t22 & 2023-01-02T05:25:47 & -22.3471 & -179.554 & 556.877 & 4.6 & mb & 35 & 93 & $\\dots$ \\\\\n",
       "\t23 & 2022-12-31T09:34:13 & -19.6814 & -178.16 & 582.1 & 4.8 & mb & 86 & 44 & $\\dots$ \\\\\n",
       "\t24 & 2022-12-30T15:35:13 & -23.1339 & -175.272 & 10.0 & 4.8 & mb & 31 & 76 & $\\dots$ \\\\\n",
       "\t$\\dots$ & $\\dots$ & $\\dots$ & $\\dots$ & $\\dots$ & $\\dots$ & $\\dots$ & $\\dots$ & $\\dots$ &  \\\\\n",
       "\\end{tabular}\n"
      ],
      "text/plain": [
       "\u001b[1m25×22 DataFrame\u001b[0m\n",
       "\u001b[1m Row \u001b[0m│\u001b[1m time                \u001b[0m\u001b[1m latitude \u001b[0m\u001b[1m longitude \u001b[0m\u001b[1m depth   \u001b[0m\u001b[1m mag     \u001b[0m\u001b[1m magType \u001b[0m\u001b[1m ns\u001b[0m ⋯\n",
       "     │\u001b[90m String31            \u001b[0m\u001b[90m Float64  \u001b[0m\u001b[90m Float64   \u001b[0m\u001b[90m Float64 \u001b[0m\u001b[90m Float64 \u001b[0m\u001b[90m String3 \u001b[0m\u001b[90m In\u001b[0m ⋯\n",
       "─────┼──────────────────────────────────────────────────────────────────────────\n",
       "   1 │ 2023-01-27T16:37:39  -23.7222   -179.46   525.778      4.6  mb          ⋯\n",
       "   2 │ 2023-01-27T16:33:28  -23.3301   -179.886  528.172      4.5  mb\n",
       "   3 │ 2023-01-24T06:15:57  -22.1207   -175.436   43.479      4.7  mb\n",
       "   4 │ 2023-01-23T10:37:46  -23.3485   -179.55   565.089      4.6  mb\n",
       "   5 │ 2023-01-21T16:06:01  -27.3604   -176.596   10.0        4.8  mb          ⋯\n",
       "   6 │ 2023-01-18T18:17:12  -24.1049   -179.526  505.884      4.5  mb\n",
       "   7 │ 2023-01-13T05:43:10  -20.5228   -178.105  479.867      4.5  mb\n",
       "   8 │ 2023-01-12T14:16:22  -23.3615   -174.835   10.0        4.6  mb\n",
       "  ⋮  │          ⋮              ⋮          ⋮         ⋮        ⋮        ⋮        ⋱\n",
       "  19 │ 2023-01-04T04:31:07  -23.0376   -179.344  468.324      4.5  mb          ⋯\n",
       "  20 │ 2023-01-03T01:17:26  -23.4055   -174.54    10.0        4.6  mb\n",
       "  21 │ 2023-01-02T13:18:34  -20.5016   -178.438  570.9        4.6  mb\n",
       "  22 │ 2023-01-02T05:25:47  -22.3471   -179.554  556.877      4.6  mb\n",
       "  23 │ 2022-12-31T09:34:13  -19.6814   -178.16   582.1        4.8  mb          ⋯\n",
       "  24 │ 2022-12-30T15:35:13  -23.1339   -175.272   10.0        4.8  mb\n",
       "  25 │ 2022-12-29T06:10:50  -23.4737   -176.825   95.838      5.0  mb\n",
       "\u001b[36m                                                  16 columns and 10 rows omitted\u001b[0m"
      ]
     },
     "metadata": {},
     "output_type": "display_data"
    }
   ],
   "source": [
    "# Problem 9\n",
    "\n",
    "# function filtering out the regions that are in the radius   \n",
    "function isInRadius(row, N, latitude, longitude)\n",
    "    n = convertNToDegree(N)\n",
    "    distance = sqrt((row.latitude - latitude)^2 + (row.longitude - longitude)^2)\n",
    "    if (distance < n) # the place is in the radius\n",
    "        return true\n",
    "    end\n",
    "    return false\n",
    "end\n",
    "\n",
    "# function to find the highest magnitude region among the ones in the radius\n",
    "function highestMagnitude(df)\n",
    "    highestMagnitude = 0\n",
    "    result = \"\"\n",
    "    for x in eachrow(df) \n",
    "        if x.mag > highestMagnitude\n",
    "            highestMagnitude = x.mag\n",
    "            result = x.place\n",
    "        end\n",
    "    end\n",
    "    return result\n",
    "end\n",
    "function mostActiveRegion(N, latitude , longitude)\n",
    "    # searching for the most active region\n",
    "    df_modified = filter(row -> isInRadius(row, N, latitude, longitude), df)\n",
    "    #finding the max maginitude region inside the radius and return its name\n",
    "    df_modified\n",
    "    #df_mod2 = combine(groupby(df_modified, :place), :mag => sum => :mag)\n",
    "    \n",
    "    #mostActiveRegion = highestMagnitude(df_mod2)\n",
    "    #return mostActiveRegion\n",
    "end\n",
    "\n",
    "# printing results\n",
    "result = mostActiveRegion(500, -23.7222, -179.4605)\n",
    "#println(result)\n",
    "#=\n",
    "result = mostActiveRegion(1000, -23.7222, -179.4605)\n",
    "println(result)\n",
    "result = mostActiveRegion(2000, -23.7222, -179.4605)\n",
    "println(result)\n",
    "result = mostActiveRegion(3000, -23.7222, -179.4605)\n",
    "println(result)\n",
    "result = mostActiveRegion(4000, -23.7222, -179.4605)\n",
    "println(result)\n",
    "=#"
   ]
  },
  {
   "cell_type": "code",
   "execution_count": 100,
   "id": "757dd943",
   "metadata": {},
   "outputs": [
    {
     "name": "stdout",
     "output_type": "stream",
     "text": [
      "\n",
      "south of the Fiji Islands\n",
      "south of the Fiji Islands\n",
      "\n",
      "Kermadec Islands region\n",
      "Kermadec Islands region\n",
      "\n"
     ]
    },
    {
     "name": "stdout",
     "output_type": "stream",
     "text": [
      "Kermadec Islands region\n",
      "Kermadec Islands region\n"
     ]
    }
   ],
   "source": [
    "# Problem 10\n",
    "function inTimeRange(M, x) #modified for date value instead of dataframe index for input\n",
    "    present = Dates.now()\n",
    "    # println((Dates.value(present) - Dates.value(DateTime(df.time[x], DateFormat(\"yyyy-mm-ddTHH:MM:SS\")))))\n",
    "    dayPassed = ((Dates.value(present) - Dates.value(DateTime(x, DateFormat(\"yyyy-mm-ddTHH:MM:SS.sssZ\"))))  / (1000 * 3600 * 24))\n",
    "    # println(\"the day passed for index $i is $dayPassed\")\n",
    "    if (dayPassed <= M)\n",
    "        return true\n",
    "    end\n",
    "    return false\n",
    "end\n",
    "\n",
    "# modified for inTimeRange itegration\n",
    "function highestMagnitude(df, M)\n",
    "    highestMagnitude = 0\n",
    "    result = \"\"\n",
    "    for x in eachrow(df) \n",
    "        if (x.mag > highestMagnitude) && (inTimeRange(M, x.time))\n",
    "            highestMagnitude = x.mag\n",
    "            result = x.place\n",
    "        end\n",
    "    end\n",
    "    return result\n",
    "end\n",
    "\n",
    "function mostActiveRegion(N, M, latitude , longitude)\n",
    "    # searching for the most active region\n",
    "    df_modified = filter(row -> isInRadius(row, N, latitude, longitude), df)\n",
    "    df_mod3 = filter(row -> inTimeRange(M, row.time), df_modified)\n",
    "    #finding the max maginitude region inside the radius and return its name\n",
    "    df_mod4 = combine(groupby(df_mod3, :place), :mag => sum => :mag)\n",
    "    mostActiveRegion = highestMagnitude(df_mod4)\n",
    "    return mostActiveRegion\n",
    "end\n",
    "\n",
    "\n",
    "\n",
    "#printing results\n",
    "result = mostActiveRegion(500, 10, -23.7222, -179.4605)\n",
    "println(result)\n",
    "result = mostActiveRegion(500, 20, -23.7222, -179.4605)\n",
    "println(result)\n",
    "result = mostActiveRegion(500, 30, -23.7222, -179.4605)\n",
    "println(result)\n",
    "result = mostActiveRegion(1000, 10, -23.7222, -179.4605)\n",
    "println(result)\n",
    "result = mostActiveRegion(1000, 20, -23.7222, -179.4605)\n",
    "println(result)\n",
    "result = mostActiveRegion(1000, 30, -23.7222, -179.4605)\n",
    "println(result)\n",
    "result = mostActiveRegion(2000, 10, -23.7222, -179.4605)\n",
    "println(result)\n",
    "result = mostActiveRegion(2000, 20, -23.7222, -179.4605)\n",
    "println(result)\n",
    "result = mostActiveRegion(2000, 30, -23.7222, -179.4605)\n",
    "println(result)\n"
   ]
  },
  {
   "attachments": {},
   "cell_type": "markdown",
   "id": "75dc2ce3",
   "metadata": {},
   "source": [
    "TU PHAM"
   ]
  },
  {
   "attachments": {},
   "cell_type": "markdown",
   "id": "a7725a67",
   "metadata": {},
   "source": [
    "MATT LE"
   ]
  },
  {
   "cell_type": "markdown",
   "id": "c2cdf943",
   "metadata": {},
   "source": [
    "MINH LE"
   ]
  }
 ],
 "metadata": {
  "kernelspec": {
   "display_name": "Julia 1.8.5",
   "language": "julia",
   "name": "julia-1.8"
  },
  "language_info": {
   "file_extension": ".jl",
   "mimetype": "application/julia",
   "name": "julia",
   "version": "1.8.5"
  },
  "vscode": {
   "interpreter": {
    "hash": "2f155fbeb9494e5ce992090b8427abe3542dae7719d8ea0d05cb0b78608edd18"
   }
  }
 },
 "nbformat": 4,
 "nbformat_minor": 5
}
