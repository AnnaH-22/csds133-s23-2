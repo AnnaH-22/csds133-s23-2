{
 "cells": [
  {
   "cell_type": "code",
   "execution_count": null,
   "id": "eb61d1ec",
   "metadata": {},
   "outputs": [],
   "source": [
    "using Statistics\n",
    "using CSV\n",
    "using DataFrames\n",
    "using LinearAlgebra\n",
    "using Dates\n"
   ]
  },
  {
   "cell_type": "code",
   "execution_count": null,
   "id": "42f2bd85",
   "metadata": {},
   "outputs": [],
   "source": [
    "filepath = \"D:/4.5.csv\"\n",
    "df = CSV.read(filepath, DataFrame, dateformat=\"dd-mm-yyyy\", limit = 10)"
   ]
  },
  {
   "cell_type": "code",
   "execution_count": null,
   "id": "14365096",
   "metadata": {},
   "outputs": [],
   "source": [
    "magnitudes = df.mag\n",
    "println(\"Min magnitude = [$(minimum(magnitudes))]\")\n",
    "println(\"Max magnitude = [$(maximum(magnitudes))]\")\n",
    "println(\"Avg magnitude = [$(sum(magnitudes) / length(magnitudes))]\")"
   ]
  },
  {
   "cell_type": "code",
   "execution_count": null,
   "metadata": {},
   "outputs": [],
   "source": [
    "for x in df.time\n",
    "    println(\"$(x[1:19])\")\n",
    "end\n"
   ]
  },
  {
   "attachments": {},
   "cell_type": "markdown",
   "id": "75dc2ce3",
   "metadata": {},
   "source": [
    "TU PHAM"
   ]
  },
  {
   "attachments": {},
   "cell_type": "markdown",
   "id": "a7725a67",
   "metadata": {},
   "source": [
    "MATT LE"
   ]
  }
 ],
 "metadata": {
  "kernelspec": {
   "display_name": "Julia 1.8.5",
   "language": "julia",
   "name": "julia-1.8"
  },
  "language_info": {
   "file_extension": ".jl",
   "mimetype": "application/julia",
   "name": "julia",
   "version": "1.8.5"
  },
  "vscode": {
   "interpreter": {
    "hash": "2f155fbeb9494e5ce992090b8427abe3542dae7719d8ea0d05cb0b78608edd18"
   }
  }
 },
 "nbformat": 4,
 "nbformat_minor": 5
}
