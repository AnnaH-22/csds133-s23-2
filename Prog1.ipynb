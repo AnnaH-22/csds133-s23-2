{
 "cells": [
  {
   "cell_type": "code",
   "execution_count": 2,
   "id": "eb61d1ec",
   "metadata": {},
   "outputs": [],
   "source": [
    "using Statistics\n",
    "using CSV\n",
    "using DataFrames\n",
    "using LinearAlgebra\n",
    "using Dates\n"
   ]
  },
  {
   "cell_type": "code",
   "execution_count": 7,
   "id": "42f2bd85",
   "metadata": {},
   "outputs": [
    {
     "data": {
      "text/html": [
       "<div><div style = \"float: left;\"><span>550×22 DataFrame</span></div><div style = \"float: right;\"><span style = \"font-style: italic;\">525 rows omitted</span></div><div style = \"clear: both;\"></div></div><div class = \"data-frame\" style = \"overflow-x: scroll;\"><table class = \"data-frame\" style = \"margin-bottom: 6px;\"><thead><tr class = \"header\"><th class = \"rowNumber\" style = \"font-weight: bold; text-align: right;\">Row</th><th style = \"text-align: left;\">time</th><th style = \"text-align: left;\">latitude</th><th style = \"text-align: left;\">longitude</th><th style = \"text-align: left;\">depth</th><th style = \"text-align: left;\">mag</th><th style = \"text-align: left;\">magType</th><th style = \"text-align: left;\">nst</th><th style = \"text-align: left;\">gap</th><th style = \"text-align: left;\">dmin</th><th style = \"text-align: left;\">rms</th><th style = \"text-align: left;\">net</th><th style = \"text-align: left;\">id</th><th style = \"text-align: left;\">updated</th><th style = \"text-align: left;\">place</th><th style = \"text-align: left;\">type</th><th style = \"text-align: left;\">horizontalError</th><th style = \"text-align: left;\">depthError</th><th style = \"text-align: left;\">magError</th><th style = \"text-align: left;\">magNst</th><th style = \"text-align: left;\">status</th><th style = \"text-align: left;\">locationSource</th><th style = \"text-align: left;\">magSource</th></tr><tr class = \"subheader headerLastRow\"><th class = \"rowNumber\" style = \"font-weight: bold; text-align: right;\"></th><th title = \"String31\" style = \"text-align: left;\">String31</th><th title = \"Float64\" style = \"text-align: left;\">Float64</th><th title = \"Float64\" style = \"text-align: left;\">Float64</th><th title = \"Float64\" style = \"text-align: left;\">Float64</th><th title = \"Float64\" style = \"text-align: left;\">Float64</th><th title = \"String3\" style = \"text-align: left;\">String3</th><th title = \"Union{Missing, Int64}\" style = \"text-align: left;\">Int64?</th><th title = \"Union{Missing, Int64}\" style = \"text-align: left;\">Int64?</th><th title = \"Union{Missing, Float64}\" style = \"text-align: left;\">Float64?</th><th title = \"Float64\" style = \"text-align: left;\">Float64</th><th title = \"String3\" style = \"text-align: left;\">String3</th><th title = \"String15\" style = \"text-align: left;\">String15</th><th title = \"String31\" style = \"text-align: left;\">String31</th><th title = \"String\" style = \"text-align: left;\">String</th><th title = \"String15\" style = \"text-align: left;\">String15</th><th title = \"Union{Missing, Float64}\" style = \"text-align: left;\">Float64?</th><th title = \"Float64\" style = \"text-align: left;\">Float64</th><th title = \"Union{Missing, Float64}\" style = \"text-align: left;\">Float64?</th><th title = \"Union{Missing, Int64}\" style = \"text-align: left;\">Int64?</th><th title = \"String15\" style = \"text-align: left;\">String15</th><th title = \"String3\" style = \"text-align: left;\">String3</th><th title = \"String3\" style = \"text-align: left;\">String3</th></tr></thead><tbody><tr><td class = \"rowNumber\" style = \"font-weight: bold; text-align: right;\">1</td><td style = \"text-align: left;\">2023-01-27T20:25:27.038Z</td><td style = \"text-align: right;\">10.7145</td><td style = \"text-align: right;\">125.448</td><td style = \"text-align: right;\">69.238</td><td style = \"text-align: right;\">5.4</td><td style = \"text-align: left;\">mww</td><td style = \"text-align: right;\">190</td><td style = \"text-align: right;\">26</td><td style = \"text-align: right;\">3.624</td><td style = \"text-align: right;\">0.84</td><td style = \"text-align: left;\">us</td><td style = \"text-align: left;\">us6000jjtj</td><td style = \"text-align: left;\">2023-01-27T22:28:46.168Z</td><td style = \"text-align: left;\">32 km ENE of Hingatungan, Philippines</td><td style = \"text-align: left;\">earthquake</td><td style = \"text-align: right;\">7.83</td><td style = \"text-align: right;\">5.358</td><td style = \"text-align: right;\">0.066</td><td style = \"text-align: right;\">22</td><td style = \"text-align: left;\">reviewed</td><td style = \"text-align: left;\">us</td><td style = \"text-align: left;\">us</td></tr><tr><td class = \"rowNumber\" style = \"font-weight: bold; text-align: right;\">2</td><td style = \"text-align: left;\">2023-01-27T18:18:00.454Z</td><td style = \"text-align: right;\">-2.8446</td><td style = \"text-align: right;\">129.618</td><td style = \"text-align: right;\">20.664</td><td style = \"text-align: right;\">4.7</td><td style = \"text-align: left;\">mb</td><td style = \"text-align: right;\">92</td><td style = \"text-align: right;\">62</td><td style = \"text-align: right;\">2.628</td><td style = \"text-align: right;\">0.6</td><td style = \"text-align: left;\">us</td><td style = \"text-align: left;\">us6000jjsz</td><td style = \"text-align: left;\">2023-01-27T20:31:54.040Z</td><td style = \"text-align: left;\">95 km NE of Amahai, Indonesia</td><td style = \"text-align: left;\">earthquake</td><td style = \"text-align: right;\">4.25</td><td style = \"text-align: right;\">4.631</td><td style = \"text-align: right;\">0.066</td><td style = \"text-align: right;\">78</td><td style = \"text-align: left;\">reviewed</td><td style = \"text-align: left;\">us</td><td style = \"text-align: left;\">us</td></tr><tr><td class = \"rowNumber\" style = \"font-weight: bold; text-align: right;\">3</td><td style = \"text-align: left;\">2023-01-27T16:37:39.419Z</td><td style = \"text-align: right;\">-23.7222</td><td style = \"text-align: right;\">-179.46</td><td style = \"text-align: right;\">525.778</td><td style = \"text-align: right;\">4.6</td><td style = \"text-align: left;\">mb</td><td style = \"text-align: right;\">33</td><td style = \"text-align: right;\">122</td><td style = \"text-align: right;\">4.686</td><td style = \"text-align: right;\">0.53</td><td style = \"text-align: left;\">us</td><td style = \"text-align: left;\">us6000jjsa</td><td style = \"text-align: left;\">2023-01-27T17:00:08.040Z</td><td style = \"text-align: left;\">south of the Fiji Islands</td><td style = \"text-align: left;\">earthquake</td><td style = \"text-align: right;\">16.53</td><td style = \"text-align: right;\">18.134</td><td style = \"text-align: right;\">0.1</td><td style = \"text-align: right;\">30</td><td style = \"text-align: left;\">reviewed</td><td style = \"text-align: left;\">us</td><td style = \"text-align: left;\">us</td></tr><tr><td class = \"rowNumber\" style = \"font-weight: bold; text-align: right;\">4</td><td style = \"text-align: left;\">2023-01-27T16:33:28.276Z</td><td style = \"text-align: right;\">-23.3301</td><td style = \"text-align: right;\">-179.886</td><td style = \"text-align: right;\">528.172</td><td style = \"text-align: right;\">4.5</td><td style = \"text-align: left;\">mb</td><td style = \"text-align: right;\">28</td><td style = \"text-align: right;\">115</td><td style = \"text-align: right;\">4.841</td><td style = \"text-align: right;\">0.64</td><td style = \"text-align: left;\">us</td><td style = \"text-align: left;\">us6000jjs9</td><td style = \"text-align: left;\">2023-01-27T17:14:45.040Z</td><td style = \"text-align: left;\">south of the Fiji Islands</td><td style = \"text-align: left;\">earthquake</td><td style = \"text-align: right;\">14.76</td><td style = \"text-align: right;\">10.621</td><td style = \"text-align: right;\">0.118</td><td style = \"text-align: right;\">21</td><td style = \"text-align: left;\">reviewed</td><td style = \"text-align: left;\">us</td><td style = \"text-align: left;\">us</td></tr><tr><td class = \"rowNumber\" style = \"font-weight: bold; text-align: right;\">5</td><td style = \"text-align: left;\">2023-01-27T11:06:54.630Z</td><td style = \"text-align: right;\">18.7795</td><td style = \"text-align: right;\">-64.3253</td><td style = \"text-align: right;\">33.0</td><td style = \"text-align: right;\">4.6</td><td style = \"text-align: left;\">ml</td><td style = \"text-align: right;\">21</td><td style = \"text-align: right;\">217</td><td style = \"text-align: right;\">0.7621</td><td style = \"text-align: right;\">0.46</td><td style = \"text-align: left;\">pr</td><td style = \"text-align: left;\">pr2023027001</td><td style = \"text-align: left;\">2023-01-27T18:56:35.897Z</td><td style = \"text-align: left;\">70 km NE of Cruz Bay, U.S. Virgin Islands</td><td style = \"text-align: left;\">earthquake</td><td style = \"text-align: right;\">2.76</td><td style = \"text-align: right;\">9.97</td><td style = \"text-align: right;\">0.08</td><td style = \"text-align: right;\">13</td><td style = \"text-align: left;\">reviewed</td><td style = \"text-align: left;\">pr</td><td style = \"text-align: left;\">pr</td></tr><tr><td class = \"rowNumber\" style = \"font-weight: bold; text-align: right;\">6</td><td style = \"text-align: left;\">2023-01-27T10:51:18.438Z</td><td style = \"text-align: right;\">-16.5691</td><td style = \"text-align: right;\">-69.7504</td><td style = \"text-align: right;\">195.543</td><td style = \"text-align: right;\">4.5</td><td style = \"text-align: left;\">mb</td><td style = \"text-align: right;\">69</td><td style = \"text-align: right;\">105</td><td style = \"text-align: right;\">1.047</td><td style = \"text-align: right;\">0.82</td><td style = \"text-align: left;\">us</td><td style = \"text-align: left;\">us6000jjn6</td><td style = \"text-align: left;\">2023-01-27T14:03:57.040Z</td><td style = \"text-align: left;\">19 km N of Mazo Cruz, Peru</td><td style = \"text-align: left;\">earthquake</td><td style = \"text-align: right;\">7.09</td><td style = \"text-align: right;\">4.387</td><td style = \"text-align: right;\">0.078</td><td style = \"text-align: right;\">48</td><td style = \"text-align: left;\">reviewed</td><td style = \"text-align: left;\">us</td><td style = \"text-align: left;\">us</td></tr><tr><td class = \"rowNumber\" style = \"font-weight: bold; text-align: right;\">7</td><td style = \"text-align: left;\">2023-01-27T05:29:21.314Z</td><td style = \"text-align: right;\">-49.5504</td><td style = \"text-align: right;\">117.454</td><td style = \"text-align: right;\">10.0</td><td style = \"text-align: right;\">5.0</td><td style = \"text-align: left;\">mb</td><td style = \"text-align: right;\">32</td><td style = \"text-align: right;\">145</td><td style = \"text-align: right;\">16.609</td><td style = \"text-align: right;\">0.56</td><td style = \"text-align: left;\">us</td><td style = \"text-align: left;\">us6000jjm1</td><td style = \"text-align: left;\">2023-01-27T05:47:50.040Z</td><td style = \"text-align: left;\">western Indian-Antarctic Ridge</td><td style = \"text-align: left;\">earthquake</td><td style = \"text-align: right;\">15.42</td><td style = \"text-align: right;\">1.926</td><td style = \"text-align: right;\">0.107</td><td style = \"text-align: right;\">28</td><td style = \"text-align: left;\">reviewed</td><td style = \"text-align: left;\">us</td><td style = \"text-align: left;\">us</td></tr><tr><td class = \"rowNumber\" style = \"font-weight: bold; text-align: right;\">8</td><td style = \"text-align: left;\">2023-01-27T04:34:38.938Z</td><td style = \"text-align: right;\">5.0199</td><td style = \"text-align: right;\">-76.2029</td><td style = \"text-align: right;\">103.42</td><td style = \"text-align: right;\">4.5</td><td style = \"text-align: left;\">mb</td><td style = \"text-align: right;\">40</td><td style = \"text-align: right;\">95</td><td style = \"text-align: right;\">1.343</td><td style = \"text-align: right;\">0.7</td><td style = \"text-align: left;\">us</td><td style = \"text-align: left;\">us6000jjlq</td><td style = \"text-align: left;\">2023-01-27T12:24:35.798Z</td><td style = \"text-align: left;\">14 km NNE of San José del Palmar, Colombia</td><td style = \"text-align: left;\">earthquake</td><td style = \"text-align: right;\">7.06</td><td style = \"text-align: right;\">8.868</td><td style = \"text-align: right;\">0.085</td><td style = \"text-align: right;\">40</td><td style = \"text-align: left;\">reviewed</td><td style = \"text-align: left;\">us</td><td style = \"text-align: left;\">us</td></tr><tr><td class = \"rowNumber\" style = \"font-weight: bold; text-align: right;\">9</td><td style = \"text-align: left;\">2023-01-27T03:21:35.761Z</td><td style = \"text-align: right;\">13.7912</td><td style = \"text-align: right;\">120.548</td><td style = \"text-align: right;\">110.676</td><td style = \"text-align: right;\">4.5</td><td style = \"text-align: left;\">mb</td><td style = \"text-align: right;\">34</td><td style = \"text-align: right;\">111</td><td style = \"text-align: right;\">8.312</td><td style = \"text-align: right;\">0.5</td><td style = \"text-align: left;\">us</td><td style = \"text-align: left;\">us6000jjlk</td><td style = \"text-align: left;\">2023-01-27T04:14:12.040Z</td><td style = \"text-align: left;\">10 km WSW of Calatagan, Philippines</td><td style = \"text-align: left;\">earthquake</td><td style = \"text-align: right;\">8.0</td><td style = \"text-align: right;\">8.337</td><td style = \"text-align: right;\">0.08</td><td style = \"text-align: right;\">46</td><td style = \"text-align: left;\">reviewed</td><td style = \"text-align: left;\">us</td><td style = \"text-align: left;\">us</td></tr><tr><td class = \"rowNumber\" style = \"font-weight: bold; text-align: right;\">10</td><td style = \"text-align: left;\">2023-01-27T00:10:43.268Z</td><td style = \"text-align: right;\">41.4478</td><td style = \"text-align: right;\">77.4532</td><td style = \"text-align: right;\">10.0</td><td style = \"text-align: right;\">4.6</td><td style = \"text-align: left;\">mb</td><td style = \"text-align: right;\">33</td><td style = \"text-align: right;\">76</td><td style = \"text-align: right;\">0.385</td><td style = \"text-align: right;\">0.37</td><td style = \"text-align: left;\">us</td><td style = \"text-align: left;\">us6000jjkp</td><td style = \"text-align: left;\">2023-01-27T03:13:34.784Z</td><td style = \"text-align: left;\">80 km SSE of Kadzhi-Say, Kyrgyzstan</td><td style = \"text-align: left;\">earthquake</td><td style = \"text-align: right;\">5.1</td><td style = \"text-align: right;\">1.913</td><td style = \"text-align: right;\">0.114</td><td style = \"text-align: right;\">23</td><td style = \"text-align: left;\">reviewed</td><td style = \"text-align: left;\">us</td><td style = \"text-align: left;\">us</td></tr><tr><td class = \"rowNumber\" style = \"font-weight: bold; text-align: right;\">11</td><td style = \"text-align: left;\">2023-01-26T19:30:46.687Z</td><td style = \"text-align: right;\">57.338</td><td style = \"text-align: right;\">-33.2601</td><td style = \"text-align: right;\">10.0</td><td style = \"text-align: right;\">5.3</td><td style = \"text-align: left;\">mww</td><td style = \"text-align: right;\">62</td><td style = \"text-align: right;\">81</td><td style = \"text-align: right;\">7.313</td><td style = \"text-align: right;\">0.72</td><td style = \"text-align: left;\">us</td><td style = \"text-align: left;\">us6000jjj3</td><td style = \"text-align: left;\">2023-01-26T19:46:23.040Z</td><td style = \"text-align: left;\">Reykjanes Ridge</td><td style = \"text-align: left;\">earthquake</td><td style = \"text-align: right;\">9.15</td><td style = \"text-align: right;\">1.894</td><td style = \"text-align: right;\">0.086</td><td style = \"text-align: right;\">13</td><td style = \"text-align: left;\">reviewed</td><td style = \"text-align: left;\">us</td><td style = \"text-align: left;\">us</td></tr><tr><td class = \"rowNumber\" style = \"font-weight: bold; text-align: right;\">12</td><td style = \"text-align: left;\">2023-01-26T19:17:03.712Z</td><td style = \"text-align: right;\">57.3763</td><td style = \"text-align: right;\">-33.374</td><td style = \"text-align: right;\">10.0</td><td style = \"text-align: right;\">5.2</td><td style = \"text-align: left;\">mww</td><td style = \"text-align: right;\">103</td><td style = \"text-align: right;\">61</td><td style = \"text-align: right;\">7.241</td><td style = \"text-align: right;\">0.87</td><td style = \"text-align: left;\">us</td><td style = \"text-align: left;\">us6000jjj0</td><td style = \"text-align: left;\">2023-01-26T19:51:10.040Z</td><td style = \"text-align: left;\">Reykjanes Ridge</td><td style = \"text-align: left;\">earthquake</td><td style = \"text-align: right;\">5.65</td><td style = \"text-align: right;\">1.861</td><td style = \"text-align: right;\">0.048</td><td style = \"text-align: right;\">41</td><td style = \"text-align: left;\">reviewed</td><td style = \"text-align: left;\">us</td><td style = \"text-align: left;\">us</td></tr><tr><td class = \"rowNumber\" style = \"font-weight: bold; text-align: right;\">13</td><td style = \"text-align: left;\">2023-01-26T17:55:29.330Z</td><td style = \"text-align: right;\">-12.4691</td><td style = \"text-align: right;\">166.963</td><td style = \"text-align: right;\">212.274</td><td style = \"text-align: right;\">4.9</td><td style = \"text-align: left;\">mb</td><td style = \"text-align: right;\">63</td><td style = \"text-align: right;\">26</td><td style = \"text-align: right;\">8.436</td><td style = \"text-align: right;\">0.65</td><td style = \"text-align: left;\">us</td><td style = \"text-align: left;\">us6000jjim</td><td style = \"text-align: left;\">2023-01-27T14:56:48.040Z</td><td style = \"text-align: left;\">168 km NNW of Sola, Vanuatu</td><td style = \"text-align: left;\">earthquake</td><td style = \"text-align: right;\">10.35</td><td style = \"text-align: right;\">5.8</td><td style = \"text-align: right;\">0.034</td><td style = \"text-align: right;\">278</td><td style = \"text-align: left;\">reviewed</td><td style = \"text-align: left;\">us</td><td style = \"text-align: left;\">us</td></tr><tr><td style = \"text-align: right;\">&vellip;</td><td style = \"text-align: right;\">&vellip;</td><td style = \"text-align: right;\">&vellip;</td><td style = \"text-align: right;\">&vellip;</td><td style = \"text-align: right;\">&vellip;</td><td style = \"text-align: right;\">&vellip;</td><td style = \"text-align: right;\">&vellip;</td><td style = \"text-align: right;\">&vellip;</td><td style = \"text-align: right;\">&vellip;</td><td style = \"text-align: right;\">&vellip;</td><td style = \"text-align: right;\">&vellip;</td><td style = \"text-align: right;\">&vellip;</td><td style = \"text-align: right;\">&vellip;</td><td style = \"text-align: right;\">&vellip;</td><td style = \"text-align: right;\">&vellip;</td><td style = \"text-align: right;\">&vellip;</td><td style = \"text-align: right;\">&vellip;</td><td style = \"text-align: right;\">&vellip;</td><td style = \"text-align: right;\">&vellip;</td><td style = \"text-align: right;\">&vellip;</td><td style = \"text-align: right;\">&vellip;</td><td style = \"text-align: right;\">&vellip;</td><td style = \"text-align: right;\">&vellip;</td></tr><tr><td class = \"rowNumber\" style = \"font-weight: bold; text-align: right;\">539</td><td style = \"text-align: left;\">2022-12-29T16:52:35.854Z</td><td style = \"text-align: right;\">2.0797</td><td style = \"text-align: right;\">127.138</td><td style = \"text-align: right;\">104.677</td><td style = \"text-align: right;\">4.9</td><td style = \"text-align: left;\">mb</td><td style = \"text-align: right;\">123</td><td style = \"text-align: right;\">80</td><td style = \"text-align: right;\">1.319</td><td style = \"text-align: right;\">0.9</td><td style = \"text-align: left;\">us</td><td style = \"text-align: left;\">us7000j0va</td><td style = \"text-align: left;\">2023-01-25T20:57:57.040Z</td><td style = \"text-align: left;\">104 km WNW of Tobelo, Indonesia</td><td style = \"text-align: left;\">earthquake</td><td style = \"text-align: right;\">6.89</td><td style = \"text-align: right;\">5.172</td><td style = \"text-align: right;\">0.055</td><td style = \"text-align: right;\">114</td><td style = \"text-align: left;\">reviewed</td><td style = \"text-align: left;\">us</td><td style = \"text-align: left;\">us</td></tr><tr><td class = \"rowNumber\" style = \"font-weight: bold; text-align: right;\">540</td><td style = \"text-align: left;\">2022-12-29T16:51:34.385Z</td><td style = \"text-align: right;\">-18.8754</td><td style = \"text-align: right;\">169.29</td><td style = \"text-align: right;\">245.491</td><td style = \"text-align: right;\">4.6</td><td style = \"text-align: left;\">mb</td><td style = \"text-align: right;\">141</td><td style = \"text-align: right;\">67</td><td style = \"text-align: right;\">4.1</td><td style = \"text-align: right;\">0.73</td><td style = \"text-align: left;\">us</td><td style = \"text-align: left;\">us7000j0v9</td><td style = \"text-align: left;\">2023-01-25T20:54:48.040Z</td><td style = \"text-align: left;\">73 km N of Isangel, Vanuatu</td><td style = \"text-align: left;\">earthquake</td><td style = \"text-align: right;\">8.77</td><td style = \"text-align: right;\">6.041</td><td style = \"text-align: right;\">0.042</td><td style = \"text-align: right;\">186</td><td style = \"text-align: left;\">reviewed</td><td style = \"text-align: left;\">us</td><td style = \"text-align: left;\">us</td></tr><tr><td class = \"rowNumber\" style = \"font-weight: bold; text-align: right;\">541</td><td style = \"text-align: left;\">2022-12-29T15:57:04.230Z</td><td style = \"text-align: right;\">6.2459</td><td style = \"text-align: right;\">126.321</td><td style = \"text-align: right;\">126.906</td><td style = \"text-align: right;\">4.6</td><td style = \"text-align: left;\">mb</td><td style = \"text-align: right;\">24</td><td style = \"text-align: right;\">121</td><td style = \"text-align: right;\">1.101</td><td style = \"text-align: right;\">0.9</td><td style = \"text-align: left;\">us</td><td style = \"text-align: left;\">us7000j3m5</td><td style = \"text-align: left;\">2023-01-25T20:19:44.040Z</td><td style = \"text-align: left;\">Mindanao, Philippines</td><td style = \"text-align: left;\">earthquake</td><td style = \"text-align: right;\">9.05</td><td style = \"text-align: right;\">7.585</td><td style = \"text-align: right;\">0.164</td><td style = \"text-align: right;\">11</td><td style = \"text-align: left;\">reviewed</td><td style = \"text-align: left;\">us</td><td style = \"text-align: left;\">us</td></tr><tr><td class = \"rowNumber\" style = \"font-weight: bold; text-align: right;\">542</td><td style = \"text-align: left;\">2022-12-29T15:11:01.069Z</td><td style = \"text-align: right;\">39.4033</td><td style = \"text-align: right;\">15.2604</td><td style = \"text-align: right;\">16.056</td><td style = \"text-align: right;\">4.5</td><td style = \"text-align: left;\">mb</td><td style = \"text-align: right;\">88</td><td style = \"text-align: right;\">53</td><td style = \"text-align: right;\">0.729</td><td style = \"text-align: right;\">0.64</td><td style = \"text-align: left;\">us</td><td style = \"text-align: left;\">us7000j0up</td><td style = \"text-align: left;\">2023-01-25T20:06:08.040Z</td><td style = \"text-align: left;\">55 km WSW of Cittadella del Capo, Italy</td><td style = \"text-align: left;\">earthquake</td><td style = \"text-align: right;\">4.09</td><td style = \"text-align: right;\">3.763</td><td style = \"text-align: right;\">0.093</td><td style = \"text-align: right;\">36</td><td style = \"text-align: left;\">reviewed</td><td style = \"text-align: left;\">us</td><td style = \"text-align: left;\">us</td></tr><tr><td class = \"rowNumber\" style = \"font-weight: bold; text-align: right;\">543</td><td style = \"text-align: left;\">2022-12-29T13:13:36.794Z</td><td style = \"text-align: right;\">6.2316</td><td style = \"text-align: right;\">126.183</td><td style = \"text-align: right;\">140.887</td><td style = \"text-align: right;\">5.2</td><td style = \"text-align: left;\">mww</td><td style = \"text-align: right;\">115</td><td style = \"text-align: right;\">76</td><td style = \"text-align: right;\">1.026</td><td style = \"text-align: right;\">0.69</td><td style = \"text-align: left;\">us</td><td style = \"text-align: left;\">us7000j0u9</td><td style = \"text-align: left;\">2023-01-22T20:08:59.417Z</td><td style = \"text-align: left;\">Mindanao, Philippines</td><td style = \"text-align: left;\">earthquake</td><td style = \"text-align: right;\">6.39</td><td style = \"text-align: right;\">5.246</td><td style = \"text-align: right;\">0.071</td><td style = \"text-align: right;\">19</td><td style = \"text-align: left;\">reviewed</td><td style = \"text-align: left;\">us</td><td style = \"text-align: left;\">us</td></tr><tr><td class = \"rowNumber\" style = \"font-weight: bold; text-align: right;\">544</td><td style = \"text-align: left;\">2022-12-29T11:22:54.356Z</td><td style = \"text-align: right;\">11.6895</td><td style = \"text-align: right;\">140.97</td><td style = \"text-align: right;\">10.0</td><td style = \"text-align: right;\">4.6</td><td style = \"text-align: left;\">mb</td><td style = \"text-align: right;\">38</td><td style = \"text-align: right;\">110</td><td style = \"text-align: right;\">4.248</td><td style = \"text-align: right;\">0.54</td><td style = \"text-align: left;\">us</td><td style = \"text-align: left;\">us7000j0tq</td><td style = \"text-align: left;\">2023-01-26T12:21:24.040Z</td><td style = \"text-align: left;\">State of Yap, Federated States of Micronesia</td><td style = \"text-align: left;\">earthquake</td><td style = \"text-align: right;\">11.9</td><td style = \"text-align: right;\">1.898</td><td style = \"text-align: right;\">0.111</td><td style = \"text-align: right;\">24</td><td style = \"text-align: left;\">reviewed</td><td style = \"text-align: left;\">us</td><td style = \"text-align: left;\">us</td></tr><tr><td class = \"rowNumber\" style = \"font-weight: bold; text-align: right;\">545</td><td style = \"text-align: left;\">2022-12-29T08:07:52.147Z</td><td style = \"text-align: right;\">-7.1715</td><td style = \"text-align: right;\">122.461</td><td style = \"text-align: right;\">10.067</td><td style = \"text-align: right;\">4.5</td><td style = \"text-align: left;\">mb</td><td style = \"text-align: right;\">34</td><td style = \"text-align: right;\">106</td><td style = \"text-align: right;\">1.472</td><td style = \"text-align: right;\">0.65</td><td style = \"text-align: left;\">us</td><td style = \"text-align: left;\">us7000j0sv</td><td style = \"text-align: left;\">2023-01-25T07:06:53.040Z</td><td style = \"text-align: left;\">Flores Sea</td><td style = \"text-align: left;\">earthquake</td><td style = \"text-align: right;\">6.62</td><td style = \"text-align: right;\">2.796</td><td style = \"text-align: right;\">0.135</td><td style = \"text-align: right;\">18</td><td style = \"text-align: left;\">reviewed</td><td style = \"text-align: left;\">us</td><td style = \"text-align: left;\">us</td></tr><tr><td class = \"rowNumber\" style = \"font-weight: bold; text-align: right;\">546</td><td style = \"text-align: left;\">2022-12-29T06:10:50.954Z</td><td style = \"text-align: right;\">-23.4737</td><td style = \"text-align: right;\">-176.825</td><td style = \"text-align: right;\">95.838</td><td style = \"text-align: right;\">5.0</td><td style = \"text-align: left;\">mb</td><td style = \"text-align: right;\">62</td><td style = \"text-align: right;\">45</td><td style = \"text-align: right;\">2.74</td><td style = \"text-align: right;\">0.63</td><td style = \"text-align: left;\">us</td><td style = \"text-align: left;\">us7000j0sk</td><td style = \"text-align: left;\">2023-01-22T13:58:17.040Z</td><td style = \"text-align: left;\">south of the Fiji Islands</td><td style = \"text-align: left;\">earthquake</td><td style = \"text-align: right;\">5.37</td><td style = \"text-align: right;\">7.4</td><td style = \"text-align: right;\">0.041</td><td style = \"text-align: right;\">187</td><td style = \"text-align: left;\">reviewed</td><td style = \"text-align: left;\">us</td><td style = \"text-align: left;\">us</td></tr><tr><td class = \"rowNumber\" style = \"font-weight: bold; text-align: right;\">547</td><td style = \"text-align: left;\">2022-12-29T04:08:48.305Z</td><td style = \"text-align: right;\">-19.0252</td><td style = \"text-align: right;\">169.427</td><td style = \"text-align: right;\">238.171</td><td style = \"text-align: right;\">4.5</td><td style = \"text-align: left;\">mb</td><td style = \"text-align: right;\">27</td><td style = \"text-align: right;\">114</td><td style = \"text-align: right;\">4.022</td><td style = \"text-align: right;\">0.48</td><td style = \"text-align: left;\">us</td><td style = \"text-align: left;\">us7000j3lr</td><td style = \"text-align: left;\">2023-01-12T02:15:13.040Z</td><td style = \"text-align: left;\">59 km NNE of Isangel, Vanuatu</td><td style = \"text-align: left;\">earthquake</td><td style = \"text-align: right;\">10.81</td><td style = \"text-align: right;\">8.426</td><td style = \"text-align: right;\">0.127</td><td style = \"text-align: right;\">18</td><td style = \"text-align: left;\">reviewed</td><td style = \"text-align: left;\">us</td><td style = \"text-align: left;\">us</td></tr><tr><td class = \"rowNumber\" style = \"font-weight: bold; text-align: right;\">548</td><td style = \"text-align: left;\">2022-12-29T00:48:56.583Z</td><td style = \"text-align: right;\">29.216</td><td style = \"text-align: right;\">130.558</td><td style = \"text-align: right;\">35.0</td><td style = \"text-align: right;\">4.5</td><td style = \"text-align: left;\">mb</td><td style = \"text-align: right;\">32</td><td style = \"text-align: right;\">122</td><td style = \"text-align: right;\">2.288</td><td style = \"text-align: right;\">0.66</td><td style = \"text-align: left;\">us</td><td style = \"text-align: left;\">us7000j3lm</td><td style = \"text-align: left;\">2023-01-19T05:28:49.040Z</td><td style = \"text-align: left;\">112 km S of Koshima, Japan</td><td style = \"text-align: left;\">earthquake</td><td style = \"text-align: right;\">7.65</td><td style = \"text-align: right;\">1.941</td><td style = \"text-align: right;\">0.131</td><td style = \"text-align: right;\">17</td><td style = \"text-align: left;\">reviewed</td><td style = \"text-align: left;\">us</td><td style = \"text-align: left;\">us</td></tr><tr><td class = \"rowNumber\" style = \"font-weight: bold; text-align: right;\">549</td><td style = \"text-align: left;\">2022-12-29T00:37:09.287Z</td><td style = \"text-align: right;\">-18.7419</td><td style = \"text-align: right;\">-177.592</td><td style = \"text-align: right;\">622.502</td><td style = \"text-align: right;\">4.6</td><td style = \"text-align: left;\">mb</td><td style = \"text-align: right;\">80</td><td style = \"text-align: right;\">43</td><td style = \"text-align: right;\">3.298</td><td style = \"text-align: right;\">0.72</td><td style = \"text-align: left;\">us</td><td style = \"text-align: left;\">us7000j0r7</td><td style = \"text-align: left;\">2023-01-19T05:07:08.040Z</td><td style = \"text-align: left;\">Fiji region</td><td style = \"text-align: left;\">earthquake</td><td style = \"text-align: right;\">12.59</td><td style = \"text-align: right;\">7.405</td><td style = \"text-align: right;\">0.076</td><td style = \"text-align: right;\">52</td><td style = \"text-align: left;\">reviewed</td><td style = \"text-align: left;\">us</td><td style = \"text-align: left;\">us</td></tr><tr><td class = \"rowNumber\" style = \"font-weight: bold; text-align: right;\">550</td><td style = \"text-align: left;\">2022-12-29T00:36:03.050Z</td><td style = \"text-align: right;\">29.208</td><td style = \"text-align: right;\">130.618</td><td style = \"text-align: right;\">30.539</td><td style = \"text-align: right;\">5.1</td><td style = \"text-align: left;\">mb</td><td style = \"text-align: right;\">202</td><td style = \"text-align: right;\">83</td><td style = \"text-align: right;\">2.298</td><td style = \"text-align: right;\">0.65</td><td style = \"text-align: left;\">us</td><td style = \"text-align: left;\">us7000j0r5</td><td style = \"text-align: left;\">2023-01-19T04:53:59.040Z</td><td style = \"text-align: left;\">114 km S of Koshima, Japan</td><td style = \"text-align: left;\">earthquake</td><td style = \"text-align: right;\">6.16</td><td style = \"text-align: right;\">3.734</td><td style = \"text-align: right;\">0.045</td><td style = \"text-align: right;\">162</td><td style = \"text-align: left;\">reviewed</td><td style = \"text-align: left;\">us</td><td style = \"text-align: left;\">us</td></tr></tbody></table></div>"
      ],
      "text/latex": [
       "\\begin{tabular}{r|cccccccc}\n",
       "\t& time & latitude & longitude & depth & mag & magType & nst & \\\\\n",
       "\t\\hline\n",
       "\t& String31 & Float64 & Float64 & Float64 & Float64 & String3 & Int64? & \\\\\n",
       "\t\\hline\n",
       "\t1 & 2023-01-27T20:25:27.038Z & 10.7145 & 125.448 & 69.238 & 5.4 & mww & 190 & $\\dots$ \\\\\n",
       "\t2 & 2023-01-27T18:18:00.454Z & -2.8446 & 129.618 & 20.664 & 4.7 & mb & 92 & $\\dots$ \\\\\n",
       "\t3 & 2023-01-27T16:37:39.419Z & -23.7222 & -179.46 & 525.778 & 4.6 & mb & 33 & $\\dots$ \\\\\n",
       "\t4 & 2023-01-27T16:33:28.276Z & -23.3301 & -179.886 & 528.172 & 4.5 & mb & 28 & $\\dots$ \\\\\n",
       "\t5 & 2023-01-27T11:06:54.630Z & 18.7795 & -64.3253 & 33.0 & 4.6 & ml & 21 & $\\dots$ \\\\\n",
       "\t6 & 2023-01-27T10:51:18.438Z & -16.5691 & -69.7504 & 195.543 & 4.5 & mb & 69 & $\\dots$ \\\\\n",
       "\t7 & 2023-01-27T05:29:21.314Z & -49.5504 & 117.454 & 10.0 & 5.0 & mb & 32 & $\\dots$ \\\\\n",
       "\t8 & 2023-01-27T04:34:38.938Z & 5.0199 & -76.2029 & 103.42 & 4.5 & mb & 40 & $\\dots$ \\\\\n",
       "\t9 & 2023-01-27T03:21:35.761Z & 13.7912 & 120.548 & 110.676 & 4.5 & mb & 34 & $\\dots$ \\\\\n",
       "\t10 & 2023-01-27T00:10:43.268Z & 41.4478 & 77.4532 & 10.0 & 4.6 & mb & 33 & $\\dots$ \\\\\n",
       "\t11 & 2023-01-26T19:30:46.687Z & 57.338 & -33.2601 & 10.0 & 5.3 & mww & 62 & $\\dots$ \\\\\n",
       "\t12 & 2023-01-26T19:17:03.712Z & 57.3763 & -33.374 & 10.0 & 5.2 & mww & 103 & $\\dots$ \\\\\n",
       "\t13 & 2023-01-26T17:55:29.330Z & -12.4691 & 166.963 & 212.274 & 4.9 & mb & 63 & $\\dots$ \\\\\n",
       "\t14 & 2023-01-26T17:25:59.107Z & 2.8087 & 126.852 & 40.28 & 4.6 & mb & 49 & $\\dots$ \\\\\n",
       "\t15 & 2023-01-26T16:41:36.896Z & 50.6252 & -172.635 & 13.384 & 5.1 & mww & 167 & $\\dots$ \\\\\n",
       "\t16 & 2023-01-26T16:04:56.294Z & 30.5315 & 137.548 & 480.991 & 4.5 & mb & 141 & $\\dots$ \\\\\n",
       "\t17 & 2023-01-26T15:57:01.678Z & -5.6296 & 154.256 & 128.292 & 4.5 & mb & 110 & $\\dots$ \\\\\n",
       "\t18 & 2023-01-26T14:19:02.828Z & -17.8522 & -173.403 & 35.0 & 4.8 & mb & 16 & $\\dots$ \\\\\n",
       "\t19 & 2023-01-26T13:56:50.123Z & 23.2115 & 123.386 & 10.0 & 4.9 & mb & 47 & $\\dots$ \\\\\n",
       "\t20 & 2023-01-26T13:05:39.821Z & 11.6697 & 43.9143 & 10.0 & 4.8 & mb & 45 & $\\dots$ \\\\\n",
       "\t21 & 2023-01-26T10:45:53.633Z & -30.254 & -178.668 & 135.699 & 6.0 & mww & 70 & $\\dots$ \\\\\n",
       "\t22 & 2023-01-26T06:33:44.558Z & 2.874 & 127.157 & 59.198 & 4.9 & mb & 58 & $\\dots$ \\\\\n",
       "\t23 & 2023-01-26T04:23:51.406Z & 2.8733 & 126.965 & 35.0 & 5.7 & mww & 91 & $\\dots$ \\\\\n",
       "\t24 & 2023-01-26T04:16:05.490Z & 16.6078 & -25.6214 & 10.0 & 5.3 & mb & 76 & $\\dots$ \\\\\n",
       "\t25 & 2023-01-26T04:07:54.913Z & -30.4621 & -178.541 & 35.0 & 4.5 & mb & 13 & $\\dots$ \\\\\n",
       "\t26 & 2023-01-26T03:16:21.963Z & -1.9745 & -79.9816 & 77.663 & 4.6 & mb & 26 & $\\dots$ \\\\\n",
       "\t27 & 2023-01-25T23:21:33.679Z & 29.7569 & 102.078 & 10.0 & 4.9 & mb & 85 & $\\dots$ \\\\\n",
       "\t28 & 2023-01-25T23:14:42.540Z & -24.019 & 179.983 & 514.333 & 4.5 & mb & 64 & $\\dots$ \\\\\n",
       "\t29 & 2023-01-25T22:27:31.440Z & 20.216 & 146.196 & 35.0 & 4.7 & mb & 58 & $\\dots$ \\\\\n",
       "\t30 & 2023-01-25T20:30:44.433Z & 29.7128 & 102.076 & 10.0 & 4.5 & mb & 23 & $\\dots$ \\\\\n",
       "\t$\\dots$ & $\\dots$ & $\\dots$ & $\\dots$ & $\\dots$ & $\\dots$ & $\\dots$ & $\\dots$ &  \\\\\n",
       "\\end{tabular}\n"
      ],
      "text/plain": [
       "\u001b[1m550×22 DataFrame\u001b[0m\n",
       "\u001b[1m Row \u001b[0m│\u001b[1m time                     \u001b[0m\u001b[1m latitude \u001b[0m\u001b[1m longitude \u001b[0m\u001b[1m depth   \u001b[0m\u001b[1m mag     \u001b[0m\u001b[1m magTyp\u001b[0m ⋯\n",
       "     │\u001b[90m String31                 \u001b[0m\u001b[90m Float64  \u001b[0m\u001b[90m Float64   \u001b[0m\u001b[90m Float64 \u001b[0m\u001b[90m Float64 \u001b[0m\u001b[90m String\u001b[0m ⋯\n",
       "─────┼──────────────────────────────────────────────────────────────────────────\n",
       "   1 │ 2023-01-27T20:25:27.038Z   10.7145   125.448    69.238      5.4  mww    ⋯\n",
       "   2 │ 2023-01-27T18:18:00.454Z   -2.8446   129.618    20.664      4.7  mb\n",
       "   3 │ 2023-01-27T16:37:39.419Z  -23.7222  -179.46    525.778      4.6  mb\n",
       "   4 │ 2023-01-27T16:33:28.276Z  -23.3301  -179.886   528.172      4.5  mb\n",
       "   5 │ 2023-01-27T11:06:54.630Z   18.7795   -64.3253   33.0        4.6  ml     ⋯\n",
       "   6 │ 2023-01-27T10:51:18.438Z  -16.5691   -69.7504  195.543      4.5  mb\n",
       "   7 │ 2023-01-27T05:29:21.314Z  -49.5504   117.454    10.0        5.0  mb\n",
       "   8 │ 2023-01-27T04:34:38.938Z    5.0199   -76.2029  103.42       4.5  mb\n",
       "   9 │ 2023-01-27T03:21:35.761Z   13.7912   120.548   110.676      4.5  mb     ⋯\n",
       "  10 │ 2023-01-27T00:10:43.268Z   41.4478    77.4532   10.0        4.6  mb\n",
       "  11 │ 2023-01-26T19:30:46.687Z   57.338    -33.2601   10.0        5.3  mww\n",
       "  ⋮  │            ⋮                 ⋮          ⋮         ⋮        ⋮        ⋮   ⋱\n",
       " 541 │ 2022-12-29T15:57:04.230Z    6.2459   126.321   126.906      4.6  mb\n",
       " 542 │ 2022-12-29T15:11:01.069Z   39.4033    15.2604   16.056      4.5  mb     ⋯\n",
       " 543 │ 2022-12-29T13:13:36.794Z    6.2316   126.183   140.887      5.2  mww\n",
       " 544 │ 2022-12-29T11:22:54.356Z   11.6895   140.97     10.0        4.6  mb\n",
       " 545 │ 2022-12-29T08:07:52.147Z   -7.1715   122.461    10.067      4.5  mb\n",
       " 546 │ 2022-12-29T06:10:50.954Z  -23.4737  -176.825    95.838      5.0  mb     ⋯\n",
       " 547 │ 2022-12-29T04:08:48.305Z  -19.0252   169.427   238.171      4.5  mb\n",
       " 548 │ 2022-12-29T00:48:56.583Z   29.216    130.558    35.0        4.5  mb\n",
       " 549 │ 2022-12-29T00:37:09.287Z  -18.7419  -177.592   622.502      4.6  mb\n",
       " 550 │ 2022-12-29T00:36:03.050Z   29.208    130.618    30.539      5.1  mb     ⋯\n",
       "\u001b[36m                                                 17 columns and 529 rows omitted\u001b[0m"
      ]
     },
     "execution_count": 7,
     "metadata": {},
     "output_type": "execute_result"
    }
   ],
   "source": [
    "filepath = \"D:/4.5.csv\"\n",
    "df = CSV.read(filepath, DataFrame, dateformat=\"dd-mm-yyyy\")"
   ]
  },
  {
   "cell_type": "code",
   "execution_count": 8,
   "id": "14365096",
   "metadata": {},
   "outputs": [
    {
     "name": "stdout",
     "output_type": "stream",
     "text": [
      "Min magnitude = [4.5]\n",
      "Max magnitude = [7.6]\n",
      "Avg magnitude = [4.821545454545453]\n"
     ]
    }
   ],
   "source": [
    "magnitudes = df.mag\n",
    "println(\"Min magnitude = [$(minimum(magnitudes))]\")\n",
    "println(\"Max magnitude = [$(maximum(magnitudes))]\")\n",
    "println(\"Avg magnitude = [$(sum(magnitudes) / length(magnitudes))]\")"
   ]
  },
  {
   "cell_type": "code",
   "execution_count": 10,
   "metadata": {},
   "outputs": [
    {
     "name": "stdout",
     "output_type": "stream",
     "text": [
      "2023-01-27T20:25:27\n",
      "2023-01-27T18:18:00\n",
      "2023-01-27T16:37:39\n",
      "2023-01-27T16:33:28\n",
      "2023-01-27T11:06:54\n",
      "2023-01-27T10:51:18\n",
      "2023-01-27T05:29:21\n",
      "2023-01-27T04:34:38\n",
      "2023-01-27T03:21:35\n",
      "2023-01-27T00:10:43\n"
     ]
    }
   ],
   "source": [
    "df1= CSV.read(filepath, DataFrame, dateformat=\"dd-mm-yyyy\", limit = 10)\n",
    "for x in df1.time\n",
    "    println(\"$(x[1:19])\")\n",
    "end\n",
    "#the loop ends after 10 iterations for some reasons"
   ]
  },
  {
   "cell_type": "code",
   "execution_count": 13,
   "id": "0e56b194",
   "metadata": {},
   "outputs": [
    {
     "name": "stdout",
     "output_type": "stream",
     "text": [
      "4.69\n",
      "4.775\n",
      "4.836666666666667\n",
      "4.8725000000000005\n",
      "4.894\n"
     ]
    }
   ],
   "source": [
    "\n",
    "function avgMagnitudeNDays(n)  #return error for n>10, similar to the above code chunk behavior\n",
    "    sumOfMag= 0\n",
    "    for x in 1:n\n",
    "        sumOfMag += df.mag[x]\n",
    "    end\n",
    "    return sumOfMag/n\n",
    "end\n",
    "\n",
    "for x in [10, 20, 30, 40 ,50] \n",
    "    res = avgMagnitudeNDays(x)\n",
    "    println(res)\n",
    "end\n"
   ]
  },
  {
   "attachments": {},
   "cell_type": "markdown",
   "id": "75dc2ce3",
   "metadata": {},
   "source": [
    "TU PHAM"
   ]
  },
  {
   "attachments": {},
   "cell_type": "markdown",
   "id": "a7725a67",
   "metadata": {},
   "source": [
    "MATT LE"
   ]
  }
 ],
 "metadata": {
  "kernelspec": {
   "display_name": "Julia 1.8.5",
   "language": "julia",
   "name": "julia-1.8"
  },
  "language_info": {
   "file_extension": ".jl",
   "mimetype": "application/julia",
   "name": "julia",
   "version": "1.8.5"
  },
  "vscode": {
   "interpreter": {
    "hash": "2f155fbeb9494e5ce992090b8427abe3542dae7719d8ea0d05cb0b78608edd18"
   }
  }
 },
 "nbformat": 4,
 "nbformat_minor": 5
}
