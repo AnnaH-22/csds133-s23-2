{
 "cells": [
  {
   "cell_type": "code",
   "execution_count": null,
   "id": "eb61d1ec",
   "metadata": {},
   "outputs": [],
   "source": [
    "using Statistics\n",
    "using CSV\n",
    "using DataFrames\n",
    "using LinearAlgebra\n",
    "using Dates\n"
   ]
  },
  {
   "cell_type": "code",
   "execution_count": null,
   "id": "42f2bd85",
   "metadata": {},
   "outputs": [],
   "source": [
    "filepath = \"D:/4.5.csv\"\n",
    "df = CSV.read(filepath, DataFrame, dateformat=\"dd-mm-yyyy\", limit = 10)"
   ]
  },
  {
   "cell_type": "code",
   "execution_count": null,
   "id": "14365096",
   "metadata": {},
   "outputs": [],
   "source": [
    "magnitudes = df.mag\n",
    "println(\"Min magnitude = [$(minimum(magnitudes))]\")\n",
    "println(\"Max magnitude = [$(maximum(magnitudes))]\")\n",
    "println(\"Avg magnitude = [$(sum(magnitudes) / length(magnitudes))]\")"
   ]
  },
  {
   "cell_type": "code",
   "execution_count": 55,
   "metadata": {},
   "outputs": [
    {
     "name": "stdout",
     "output_type": "stream",
     "text": [
      "2023-01-27T20:25:27\n",
      "2023-01-27T18:18:00\n",
      "2023-01-27T16:37:39\n",
      "2023-01-27T16:33:28\n",
      "2023-01-27T11:06:54\n",
      "2023-01-27T10:51:18\n",
      "2023-01-27T05:29:21\n",
      "2023-01-27T04:34:38\n",
      "2023-01-27T03:21:35\n",
      "2023-01-27T00:10:43\n"
     ]
    },
    {
     "data": {
      "text/plain": [
       "\"2023-01-27T18:18:00\""
      ]
     },
     "execution_count": 55,
     "metadata": {},
     "output_type": "execute_result"
    }
   ],
   "source": [
    "for x in df.time\n",
    "    println(\"$(x[1:19])\")\n",
    "end\n",
    "#the loop ends after 10 iterations for some reasons"
   ]
  },
  {
   "cell_type": "code",
   "execution_count": 66,
   "id": "0e56b194",
   "metadata": {},
   "outputs": [
    {
     "name": "stdout",
     "output_type": "stream",
     "text": [
      "4.69\n"
     ]
    }
   ],
   "source": [
    "\n",
    "function avgMagnitudeNDays(n)  #return error for n>10, similar to the above code chunk behavior\n",
    "    sumOfMag= 0\n",
    "    for x in 1:n\n",
    "        sumOfMag += df.mag[x]\n",
    "    end\n",
    "    return sumOfMag/n\n",
    "end\n",
    "\n",
    "#for x in [10, 20, 30, 40 ,50] \n",
    "    res = avgMagnitudeNDays(10)\n",
    "    println(res)\n",
    "#end\n"
   ]
  },
  {
   "attachments": {},
   "cell_type": "markdown",
   "id": "75dc2ce3",
   "metadata": {},
   "source": [
    "TU PHAM"
   ]
  },
  {
   "attachments": {},
   "cell_type": "markdown",
   "id": "a7725a67",
   "metadata": {},
   "source": [
    "MATT LE"
   ]
  }
 ],
 "metadata": {
  "kernelspec": {
   "display_name": "Julia 1.8.5",
   "language": "julia",
   "name": "julia-1.8"
  },
  "language_info": {
   "file_extension": ".jl",
   "mimetype": "application/julia",
   "name": "julia",
   "version": "1.8.5"
  },
  "vscode": {
   "interpreter": {
    "hash": "2f155fbeb9494e5ce992090b8427abe3542dae7719d8ea0d05cb0b78608edd18"
   }
  }
 },
 "nbformat": 4,
 "nbformat_minor": 5
}
