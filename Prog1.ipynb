{
 "cells": [
  {
   "cell_type": "code",
   "execution_count": 3,
   "id": "eb61d1ec",
   "metadata": {},
   "outputs": [],
   "source": [
    "using Statistics\n",
    "using CSV\n",
    "using DataFrames\n",
    "using LinearAlgebra\n",
    "using Dates\n"
   ]
  },
  {
   "cell_type": "code",
   "execution_count": 4,
   "id": "42f2bd85",
   "metadata": {},
   "outputs": [
    {
     "data": {
      "text/html": [
       "<div><div style = \"float: left;\"><span>10×22 DataFrame</span></div><div style = \"clear: both;\"></div></div><div class = \"data-frame\" style = \"overflow-x: scroll;\"><table class = \"data-frame\" style = \"margin-bottom: 6px;\"><thead><tr class = \"header\"><th class = \"rowNumber\" style = \"font-weight: bold; text-align: right;\">Row</th><th style = \"text-align: left;\">time</th><th style = \"text-align: left;\">latitude</th><th style = \"text-align: left;\">longitude</th><th style = \"text-align: left;\">depth</th><th style = \"text-align: left;\">mag</th><th style = \"text-align: left;\">magType</th><th style = \"text-align: left;\">nst</th><th style = \"text-align: left;\">gap</th><th style = \"text-align: left;\">dmin</th><th style = \"text-align: left;\">rms</th><th style = \"text-align: left;\">net</th><th style = \"text-align: left;\">id</th><th style = \"text-align: left;\">updated</th><th style = \"text-align: left;\">place</th><th style = \"text-align: left;\">type</th><th style = \"text-align: left;\">horizontalError</th><th style = \"text-align: left;\">depthError</th><th style = \"text-align: left;\">magError</th><th style = \"text-align: left;\">magNst</th><th style = \"text-align: left;\">status</th><th style = \"text-align: left;\">locationSource</th><th style = \"text-align: left;\">magSource</th></tr><tr class = \"subheader headerLastRow\"><th class = \"rowNumber\" style = \"font-weight: bold; text-align: right;\"></th><th title = \"String31\" style = \"text-align: left;\">String31</th><th title = \"Float64\" style = \"text-align: left;\">Float64</th><th title = \"Float64\" style = \"text-align: left;\">Float64</th><th title = \"Float64\" style = \"text-align: left;\">Float64</th><th title = \"Float64\" style = \"text-align: left;\">Float64</th><th title = \"String3\" style = \"text-align: left;\">String3</th><th title = \"Int64\" style = \"text-align: left;\">Int64</th><th title = \"Int64\" style = \"text-align: left;\">Int64</th><th title = \"Float64\" style = \"text-align: left;\">Float64</th><th title = \"Float64\" style = \"text-align: left;\">Float64</th><th title = \"String3\" style = \"text-align: left;\">String3</th><th title = \"String15\" style = \"text-align: left;\">String15</th><th title = \"String31\" style = \"text-align: left;\">String31</th><th title = \"String\" style = \"text-align: left;\">String</th><th title = \"String15\" style = \"text-align: left;\">String15</th><th title = \"Float64\" style = \"text-align: left;\">Float64</th><th title = \"Float64\" style = \"text-align: left;\">Float64</th><th title = \"Float64\" style = \"text-align: left;\">Float64</th><th title = \"Int64\" style = \"text-align: left;\">Int64</th><th title = \"String15\" style = \"text-align: left;\">String15</th><th title = \"String3\" style = \"text-align: left;\">String3</th><th title = \"String3\" style = \"text-align: left;\">String3</th></tr></thead><tbody><tr><td class = \"rowNumber\" style = \"font-weight: bold; text-align: right;\">1</td><td style = \"text-align: left;\">2023-01-27T20:25:27.038Z</td><td style = \"text-align: right;\">10.7145</td><td style = \"text-align: right;\">125.448</td><td style = \"text-align: right;\">69.238</td><td style = \"text-align: right;\">5.4</td><td style = \"text-align: left;\">mww</td><td style = \"text-align: right;\">190</td><td style = \"text-align: right;\">26</td><td style = \"text-align: right;\">3.624</td><td style = \"text-align: right;\">0.84</td><td style = \"text-align: left;\">us</td><td style = \"text-align: left;\">us6000jjtj</td><td style = \"text-align: left;\">2023-01-27T22:28:46.168Z</td><td style = \"text-align: left;\">32 km ENE of Hingatungan, Philippines</td><td style = \"text-align: left;\">earthquake</td><td style = \"text-align: right;\">7.83</td><td style = \"text-align: right;\">5.358</td><td style = \"text-align: right;\">0.066</td><td style = \"text-align: right;\">22</td><td style = \"text-align: left;\">reviewed</td><td style = \"text-align: left;\">us</td><td style = \"text-align: left;\">us</td></tr><tr><td class = \"rowNumber\" style = \"font-weight: bold; text-align: right;\">2</td><td style = \"text-align: left;\">2023-01-27T18:18:00.454Z</td><td style = \"text-align: right;\">-2.8446</td><td style = \"text-align: right;\">129.618</td><td style = \"text-align: right;\">20.664</td><td style = \"text-align: right;\">4.7</td><td style = \"text-align: left;\">mb</td><td style = \"text-align: right;\">92</td><td style = \"text-align: right;\">62</td><td style = \"text-align: right;\">2.628</td><td style = \"text-align: right;\">0.6</td><td style = \"text-align: left;\">us</td><td style = \"text-align: left;\">us6000jjsz</td><td style = \"text-align: left;\">2023-01-27T20:31:54.040Z</td><td style = \"text-align: left;\">95 km NE of Amahai, Indonesia</td><td style = \"text-align: left;\">earthquake</td><td style = \"text-align: right;\">4.25</td><td style = \"text-align: right;\">4.631</td><td style = \"text-align: right;\">0.066</td><td style = \"text-align: right;\">78</td><td style = \"text-align: left;\">reviewed</td><td style = \"text-align: left;\">us</td><td style = \"text-align: left;\">us</td></tr><tr><td class = \"rowNumber\" style = \"font-weight: bold; text-align: right;\">3</td><td style = \"text-align: left;\">2023-01-27T16:37:39.419Z</td><td style = \"text-align: right;\">-23.7222</td><td style = \"text-align: right;\">-179.46</td><td style = \"text-align: right;\">525.778</td><td style = \"text-align: right;\">4.6</td><td style = \"text-align: left;\">mb</td><td style = \"text-align: right;\">33</td><td style = \"text-align: right;\">122</td><td style = \"text-align: right;\">4.686</td><td style = \"text-align: right;\">0.53</td><td style = \"text-align: left;\">us</td><td style = \"text-align: left;\">us6000jjsa</td><td style = \"text-align: left;\">2023-01-27T17:00:08.040Z</td><td style = \"text-align: left;\">south of the Fiji Islands</td><td style = \"text-align: left;\">earthquake</td><td style = \"text-align: right;\">16.53</td><td style = \"text-align: right;\">18.134</td><td style = \"text-align: right;\">0.1</td><td style = \"text-align: right;\">30</td><td style = \"text-align: left;\">reviewed</td><td style = \"text-align: left;\">us</td><td style = \"text-align: left;\">us</td></tr><tr><td class = \"rowNumber\" style = \"font-weight: bold; text-align: right;\">4</td><td style = \"text-align: left;\">2023-01-27T16:33:28.276Z</td><td style = \"text-align: right;\">-23.3301</td><td style = \"text-align: right;\">-179.886</td><td style = \"text-align: right;\">528.172</td><td style = \"text-align: right;\">4.5</td><td style = \"text-align: left;\">mb</td><td style = \"text-align: right;\">28</td><td style = \"text-align: right;\">115</td><td style = \"text-align: right;\">4.841</td><td style = \"text-align: right;\">0.64</td><td style = \"text-align: left;\">us</td><td style = \"text-align: left;\">us6000jjs9</td><td style = \"text-align: left;\">2023-01-27T17:14:45.040Z</td><td style = \"text-align: left;\">south of the Fiji Islands</td><td style = \"text-align: left;\">earthquake</td><td style = \"text-align: right;\">14.76</td><td style = \"text-align: right;\">10.621</td><td style = \"text-align: right;\">0.118</td><td style = \"text-align: right;\">21</td><td style = \"text-align: left;\">reviewed</td><td style = \"text-align: left;\">us</td><td style = \"text-align: left;\">us</td></tr><tr><td class = \"rowNumber\" style = \"font-weight: bold; text-align: right;\">5</td><td style = \"text-align: left;\">2023-01-27T11:06:54.630Z</td><td style = \"text-align: right;\">18.7795</td><td style = \"text-align: right;\">-64.3253</td><td style = \"text-align: right;\">33.0</td><td style = \"text-align: right;\">4.6</td><td style = \"text-align: left;\">ml</td><td style = \"text-align: right;\">21</td><td style = \"text-align: right;\">217</td><td style = \"text-align: right;\">0.7621</td><td style = \"text-align: right;\">0.46</td><td style = \"text-align: left;\">pr</td><td style = \"text-align: left;\">pr2023027001</td><td style = \"text-align: left;\">2023-01-27T18:56:35.897Z</td><td style = \"text-align: left;\">70 km NE of Cruz Bay, U.S. Virgin Islands</td><td style = \"text-align: left;\">earthquake</td><td style = \"text-align: right;\">2.76</td><td style = \"text-align: right;\">9.97</td><td style = \"text-align: right;\">0.08</td><td style = \"text-align: right;\">13</td><td style = \"text-align: left;\">reviewed</td><td style = \"text-align: left;\">pr</td><td style = \"text-align: left;\">pr</td></tr><tr><td class = \"rowNumber\" style = \"font-weight: bold; text-align: right;\">6</td><td style = \"text-align: left;\">2023-01-27T10:51:18.438Z</td><td style = \"text-align: right;\">-16.5691</td><td style = \"text-align: right;\">-69.7504</td><td style = \"text-align: right;\">195.543</td><td style = \"text-align: right;\">4.5</td><td style = \"text-align: left;\">mb</td><td style = \"text-align: right;\">69</td><td style = \"text-align: right;\">105</td><td style = \"text-align: right;\">1.047</td><td style = \"text-align: right;\">0.82</td><td style = \"text-align: left;\">us</td><td style = \"text-align: left;\">us6000jjn6</td><td style = \"text-align: left;\">2023-01-27T14:03:57.040Z</td><td style = \"text-align: left;\">19 km N of Mazo Cruz, Peru</td><td style = \"text-align: left;\">earthquake</td><td style = \"text-align: right;\">7.09</td><td style = \"text-align: right;\">4.387</td><td style = \"text-align: right;\">0.078</td><td style = \"text-align: right;\">48</td><td style = \"text-align: left;\">reviewed</td><td style = \"text-align: left;\">us</td><td style = \"text-align: left;\">us</td></tr><tr><td class = \"rowNumber\" style = \"font-weight: bold; text-align: right;\">7</td><td style = \"text-align: left;\">2023-01-27T05:29:21.314Z</td><td style = \"text-align: right;\">-49.5504</td><td style = \"text-align: right;\">117.454</td><td style = \"text-align: right;\">10.0</td><td style = \"text-align: right;\">5.0</td><td style = \"text-align: left;\">mb</td><td style = \"text-align: right;\">32</td><td style = \"text-align: right;\">145</td><td style = \"text-align: right;\">16.609</td><td style = \"text-align: right;\">0.56</td><td style = \"text-align: left;\">us</td><td style = \"text-align: left;\">us6000jjm1</td><td style = \"text-align: left;\">2023-01-27T05:47:50.040Z</td><td style = \"text-align: left;\">western Indian-Antarctic Ridge</td><td style = \"text-align: left;\">earthquake</td><td style = \"text-align: right;\">15.42</td><td style = \"text-align: right;\">1.926</td><td style = \"text-align: right;\">0.107</td><td style = \"text-align: right;\">28</td><td style = \"text-align: left;\">reviewed</td><td style = \"text-align: left;\">us</td><td style = \"text-align: left;\">us</td></tr><tr><td class = \"rowNumber\" style = \"font-weight: bold; text-align: right;\">8</td><td style = \"text-align: left;\">2023-01-27T04:34:38.938Z</td><td style = \"text-align: right;\">5.0199</td><td style = \"text-align: right;\">-76.2029</td><td style = \"text-align: right;\">103.42</td><td style = \"text-align: right;\">4.5</td><td style = \"text-align: left;\">mb</td><td style = \"text-align: right;\">40</td><td style = \"text-align: right;\">95</td><td style = \"text-align: right;\">1.343</td><td style = \"text-align: right;\">0.7</td><td style = \"text-align: left;\">us</td><td style = \"text-align: left;\">us6000jjlq</td><td style = \"text-align: left;\">2023-01-27T12:24:35.798Z</td><td style = \"text-align: left;\">14 km NNE of San José del Palmar, Colombia</td><td style = \"text-align: left;\">earthquake</td><td style = \"text-align: right;\">7.06</td><td style = \"text-align: right;\">8.868</td><td style = \"text-align: right;\">0.085</td><td style = \"text-align: right;\">40</td><td style = \"text-align: left;\">reviewed</td><td style = \"text-align: left;\">us</td><td style = \"text-align: left;\">us</td></tr><tr><td class = \"rowNumber\" style = \"font-weight: bold; text-align: right;\">9</td><td style = \"text-align: left;\">2023-01-27T03:21:35.761Z</td><td style = \"text-align: right;\">13.7912</td><td style = \"text-align: right;\">120.548</td><td style = \"text-align: right;\">110.676</td><td style = \"text-align: right;\">4.5</td><td style = \"text-align: left;\">mb</td><td style = \"text-align: right;\">34</td><td style = \"text-align: right;\">111</td><td style = \"text-align: right;\">8.312</td><td style = \"text-align: right;\">0.5</td><td style = \"text-align: left;\">us</td><td style = \"text-align: left;\">us6000jjlk</td><td style = \"text-align: left;\">2023-01-27T04:14:12.040Z</td><td style = \"text-align: left;\">10 km WSW of Calatagan, Philippines</td><td style = \"text-align: left;\">earthquake</td><td style = \"text-align: right;\">8.0</td><td style = \"text-align: right;\">8.337</td><td style = \"text-align: right;\">0.08</td><td style = \"text-align: right;\">46</td><td style = \"text-align: left;\">reviewed</td><td style = \"text-align: left;\">us</td><td style = \"text-align: left;\">us</td></tr><tr><td class = \"rowNumber\" style = \"font-weight: bold; text-align: right;\">10</td><td style = \"text-align: left;\">2023-01-27T00:10:43.268Z</td><td style = \"text-align: right;\">41.4478</td><td style = \"text-align: right;\">77.4532</td><td style = \"text-align: right;\">10.0</td><td style = \"text-align: right;\">4.6</td><td style = \"text-align: left;\">mb</td><td style = \"text-align: right;\">33</td><td style = \"text-align: right;\">76</td><td style = \"text-align: right;\">0.385</td><td style = \"text-align: right;\">0.37</td><td style = \"text-align: left;\">us</td><td style = \"text-align: left;\">us6000jjkp</td><td style = \"text-align: left;\">2023-01-27T03:13:34.784Z</td><td style = \"text-align: left;\">80 km SSE of Kadzhi-Say, Kyrgyzstan</td><td style = \"text-align: left;\">earthquake</td><td style = \"text-align: right;\">5.1</td><td style = \"text-align: right;\">1.913</td><td style = \"text-align: right;\">0.114</td><td style = \"text-align: right;\">23</td><td style = \"text-align: left;\">reviewed</td><td style = \"text-align: left;\">us</td><td style = \"text-align: left;\">us</td></tr></tbody></table></div>"
      ],
      "text/latex": [
       "\\begin{tabular}{r|cccccccc}\n",
       "\t& time & latitude & longitude & depth & mag & magType & nst & \\\\\n",
       "\t\\hline\n",
       "\t& String31 & Float64 & Float64 & Float64 & Float64 & String3 & Int64 & \\\\\n",
       "\t\\hline\n",
       "\t1 & 2023-01-27T20:25:27.038Z & 10.7145 & 125.448 & 69.238 & 5.4 & mww & 190 & $\\dots$ \\\\\n",
       "\t2 & 2023-01-27T18:18:00.454Z & -2.8446 & 129.618 & 20.664 & 4.7 & mb & 92 & $\\dots$ \\\\\n",
       "\t3 & 2023-01-27T16:37:39.419Z & -23.7222 & -179.46 & 525.778 & 4.6 & mb & 33 & $\\dots$ \\\\\n",
       "\t4 & 2023-01-27T16:33:28.276Z & -23.3301 & -179.886 & 528.172 & 4.5 & mb & 28 & $\\dots$ \\\\\n",
       "\t5 & 2023-01-27T11:06:54.630Z & 18.7795 & -64.3253 & 33.0 & 4.6 & ml & 21 & $\\dots$ \\\\\n",
       "\t6 & 2023-01-27T10:51:18.438Z & -16.5691 & -69.7504 & 195.543 & 4.5 & mb & 69 & $\\dots$ \\\\\n",
       "\t7 & 2023-01-27T05:29:21.314Z & -49.5504 & 117.454 & 10.0 & 5.0 & mb & 32 & $\\dots$ \\\\\n",
       "\t8 & 2023-01-27T04:34:38.938Z & 5.0199 & -76.2029 & 103.42 & 4.5 & mb & 40 & $\\dots$ \\\\\n",
       "\t9 & 2023-01-27T03:21:35.761Z & 13.7912 & 120.548 & 110.676 & 4.5 & mb & 34 & $\\dots$ \\\\\n",
       "\t10 & 2023-01-27T00:10:43.268Z & 41.4478 & 77.4532 & 10.0 & 4.6 & mb & 33 & $\\dots$ \\\\\n",
       "\\end{tabular}\n"
      ],
      "text/plain": [
       "\u001b[1m10×22 DataFrame\u001b[0m\n",
       "\u001b[1m Row \u001b[0m│\u001b[1m time                     \u001b[0m\u001b[1m latitude \u001b[0m\u001b[1m longitude \u001b[0m\u001b[1m depth   \u001b[0m\u001b[1m mag     \u001b[0m\u001b[1m magTyp\u001b[0m ⋯\n",
       "     │\u001b[90m String31                 \u001b[0m\u001b[90m Float64  \u001b[0m\u001b[90m Float64   \u001b[0m\u001b[90m Float64 \u001b[0m\u001b[90m Float64 \u001b[0m\u001b[90m String\u001b[0m ⋯\n",
       "─────┼──────────────────────────────────────────────────────────────────────────\n",
       "   1 │ 2023-01-27T20:25:27.038Z   10.7145   125.448    69.238      5.4  mww    ⋯\n",
       "   2 │ 2023-01-27T18:18:00.454Z   -2.8446   129.618    20.664      4.7  mb\n",
       "   3 │ 2023-01-27T16:37:39.419Z  -23.7222  -179.46    525.778      4.6  mb\n",
       "   4 │ 2023-01-27T16:33:28.276Z  -23.3301  -179.886   528.172      4.5  mb\n",
       "   5 │ 2023-01-27T11:06:54.630Z   18.7795   -64.3253   33.0        4.6  ml     ⋯\n",
       "   6 │ 2023-01-27T10:51:18.438Z  -16.5691   -69.7504  195.543      4.5  mb\n",
       "   7 │ 2023-01-27T05:29:21.314Z  -49.5504   117.454    10.0        5.0  mb\n",
       "   8 │ 2023-01-27T04:34:38.938Z    5.0199   -76.2029  103.42       4.5  mb\n",
       "   9 │ 2023-01-27T03:21:35.761Z   13.7912   120.548   110.676      4.5  mb     ⋯\n",
       "  10 │ 2023-01-27T00:10:43.268Z   41.4478    77.4532   10.0        4.6  mb\n",
       "\u001b[36m                                                              17 columns omitted\u001b[0m"
      ]
     },
     "metadata": {},
     "output_type": "display_data"
    }
   ],
   "source": [
    "filepath = \"D:/4.5.csv\"\n",
    "df = CSV.read(filepath, DataFrame, dateformat=\"dd-mm-yyyy\")\n",
    "df2 = CSV.read(filepath, DataFrame, dateformat=\"dd-mm-yyyy\", limit = 10)"
   ]
  },
  {
   "cell_type": "code",
   "execution_count": 12,
   "id": "14365096",
   "metadata": {},
   "outputs": [
    {
     "name": "stdout",
     "output_type": "stream",
     "text": [
      "Min magnitude: [4.5]\n",
      "Max magnitude: [7.6]\n",
      "Average magnitude: [4.821545454545453]\n"
     ]
    }
   ],
   "source": [
    "magnitudes = df.mag\n",
    "println(\"Min magnitude: [$(minimum(magnitudes))]\")\n",
    "println(\"Max magnitude: [$(maximum(magnitudes))]\")\n",
    "println(\"Average magnitude: [$(sum(magnitudes) / length(magnitudes))]\")"
   ]
  },
  {
   "cell_type": "code",
   "execution_count": 13,
   "id": "90a65c31",
   "metadata": {},
   "outputs": [
    {
     "name": "stdout",
     "output_type": "stream",
     "text": [
      "2023-01-27T20:25:27\n",
      "2023-01-27T18:18:00\n",
      "2023-01-27T16:37:39\n",
      "2023-01-27T16:33:28\n",
      "2023-01-27T11:06:54\n",
      "2023-01-27T10:51:18\n",
      "2023-01-27T05:29:21\n",
      "2023-01-27T04:34:38\n",
      "2023-01-27T03:21:35\n",
      "2023-01-27T00:10:43\n"
     ]
    }
   ],
   "source": [
    "for x in 1:length(df.time)\n",
    "    df.time[x] = df.time[x][1:19]\n",
    "end\n",
    "for x in 1:10\n",
    "    println(\"$(df.time[x])\")\n",
    "end"
   ]
  },
  {
   "cell_type": "code",
   "execution_count": 16,
   "id": "0e56b194",
   "metadata": {},
   "outputs": [
    {
     "name": "stdout",
     "output_type": "stream",
     "text": [
      "4.69\n",
      "4.775\n",
      "4.836666666666667\n",
      "4.8725000000000005\n",
      "4.894\n"
     ]
    }
   ],
   "source": [
    "\n",
    "function avgMagnitudeNDays(n)  \n",
    "    sumOfMag = 0\n",
    "    for x in 1:n\n",
    "        sumOfMag += df.mag[x]\n",
    "    end\n",
    "    return sumOfMag / n\n",
    "end\n",
    "\n",
    "for x in [10, 20, 30, 40 ,50] \n",
    "    res = avgMagnitudeNDays(x)\n",
    "    println(res)\n",
    "end\n"
   ]
  },
  {
   "cell_type": "code",
   "execution_count": 5,
   "id": "53862950",
   "metadata": {},
   "outputs": [
    {
     "data": {
      "text/plain": [
       "4.830201342281881"
      ]
     },
     "metadata": {},
     "output_type": "display_data"
    }
   ],
   "source": [
    "function convertNToDegree(n) #n is in km\n",
    "    return (n /= 100)\n",
    "end\n",
    "\n",
    "function avgMagnitudeFromLatLong(n, lat, long)\n",
    "    n = convertNToDegree(n)\n",
    "    latMin = lat - n\n",
    "    latMax = lat + n\n",
    "    longMin = long - n\n",
    "    longMax = long + n\n",
    "    sumOfMag = 0\n",
    "    count = 0\n",
    "    for x in eachrow(df) \n",
    "        if ((latMin < x.latitude) && (x.latitude < latMax)) #does not work atm\n",
    "            sumOfMag +=  x.mag\n",
    "            count += 1\n",
    "        end\n",
    "    end\n",
    "    return sumOfMag/count\n",
    "end\n",
    "\n",
    "function avgMagnitudeWithinNKmOfLatLong(N, latitude, longtitude)\n",
    "    n = convertNToDegree(N)\n",
    "    sumOfMag = 0\n",
    "    count = 0\n",
    "    for x in eachrow(df) \n",
    "        distance = sqrt((x.latitude - latitude)^2 + (x.longtitude - longtitude)^2)\n",
    "        if (distance < n)\n",
    "            sumOfMag +=  x.mag\n",
    "            count += 1\n",
    "        end\n",
    "    end\n",
    "    return sumOfMag / count\n",
    "end\n",
    "\n",
    "avgMagnitudeFromLatLong(3000, 127, 123)\n",
    "avgMagnitudeFromLatLong(65000, 127, 123)\n",
    "avgMagnitudeFromLatLong(3000, 10, 142)\n",
    "avgMagnitudeFromLatLong(3000, -47, 189)\n"
   ]
  },
  {
   "attachments": {},
   "cell_type": "markdown",
   "id": "75dc2ce3",
   "metadata": {},
   "source": [
    "TU PHAM"
   ]
  },
  {
   "attachments": {},
   "cell_type": "markdown",
   "id": "a7725a67",
   "metadata": {},
   "source": [
    "MATT LE"
   ]
  },
  {
   "cell_type": "markdown",
   "id": "c2cdf943",
   "metadata": {},
   "source": [
    "MINH LE"
   ]
  }
 ],
 "metadata": {
  "kernelspec": {
   "display_name": "Julia 1.8.5",
   "language": "julia",
   "name": "julia-1.8"
  },
  "language_info": {
   "file_extension": ".jl",
   "mimetype": "application/julia",
   "name": "julia",
   "version": "1.8.5"
  },
  "vscode": {
   "interpreter": {
    "hash": "2f155fbeb9494e5ce992090b8427abe3542dae7719d8ea0d05cb0b78608edd18"
   }
  }
 },
 "nbformat": 4,
 "nbformat_minor": 5
}
