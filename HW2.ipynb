{
 "cells": [
  {
   "cell_type": "code",
   "execution_count": 5,
   "metadata": {},
   "outputs": [],
   "source": [
    "using LinearAlgebra\n",
    "using DataFrames"
   ]
  },
  {
   "cell_type": "code",
   "execution_count": 34,
   "metadata": {},
   "outputs": [
    {
     "name": "stdout",
     "output_type": "stream",
     "text": [
      "3\n"
     ]
    }
   ],
   "source": [
    "# A = [(1, 1, 1), (1, 2, 3), (2, 2, 2), (3, 4, 5), (0, 1, 0), (1, 0, 1)]\n",
    "\n",
    "A = [1 1 1; 1 2 3; 2 2 2; 3 4 5; 0 1 0; 1 0 1]\n",
    "\n",
    "println(rank(A))"
   ]
  },
  {
   "cell_type": "code",
   "execution_count": 4,
   "metadata": {},
   "outputs": [
    {
     "name": "stdout",
     "output_type": "stream",
     "text": [
      "The matrix has dimensions (4, 3)\n"
     ]
    }
   ],
   "source": [
    "# create a matrix of vectors\n",
    "A = [1 2 3; 4 8 12; 7 8 9; 10 11 12]\n",
    "\n",
    "# get the dimensions of the matrix\n",
    "dims = (A)\n",
    "\n",
    "# print the dimensions\n",
    "println(\"The matrix has dimensions \", dims)"
   ]
  }
 ],
 "metadata": {
  "kernelspec": {
   "display_name": "Julia 1.8.5",
   "language": "julia",
   "name": "julia-1.8"
  },
  "language_info": {
   "file_extension": ".jl",
   "mimetype": "application/julia",
   "name": "julia",
   "version": "1.8.5"
  },
  "orig_nbformat": 4
 },
 "nbformat": 4,
 "nbformat_minor": 2
}
